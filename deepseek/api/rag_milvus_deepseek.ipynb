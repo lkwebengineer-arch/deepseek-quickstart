{
 "cells": [
  {
   "cell_type": "markdown",
   "id": "20549885",
   "metadata": {},
   "source": [
    "# 使用 Milvus 和 DeepSeek 构建 RAG\n",
    "\n",
    "DeepSeek 帮助开发者使用高性能语言模型构建和扩展 AI 应用。它提供高效的推理、灵活的 API 以及先进的专家混合 (MoE) 架构，用于强大的推理和检索任务。\n",
    "\n",
    "在本教程中，我们将展示如何使用 Milvus 和 DeepSeek 构建一个检索增强生成 (RAG) 管道。"
   ]
  },
  {
   "cell_type": "markdown",
   "id": "7394c701",
   "metadata": {},
   "source": [
    "## 准备工作"
   ]
  },
  {
   "cell_type": "markdown",
   "id": "89103a1e",
   "metadata": {},
   "source": [
    "### 依赖与环境"
   ]
  },
  {
   "cell_type": "code",
   "execution_count": null,
   "id": "9c18d7b4",
   "metadata": {},
   "outputs": [],
   "source": [
    "!pip install \"pymilvus[model]\" openai==1.82.0 requests==2.32.3 tqdm==4.67.1 torch"
   ]
  },
  {
   "cell_type": "markdown",
   "id": "1b3c0999-d670-41a9-afbd-d8a020fe1631",
   "metadata": {},
   "source": [
    "---"
   ]
  },
  {
   "cell_type": "code",
   "execution_count": null,
   "id": "375ad823",
   "metadata": {},
   "outputs": [],
   "source": [
    "import os\n",
    "\n",
    "# 从环境变量获取 DeepSeek API Key\n",
    "api_key = os.getenv(\"DEEPSEEK_API_KEY\")"
   ]
  },
  {
   "cell_type": "markdown",
   "id": "db44bb26",
   "metadata": {},
   "source": [
    "### 准备数据"
   ]
  },
  {
   "cell_type": "markdown",
   "id": "25f92a95",
   "metadata": {},
   "source": [
    "我们使用 Milvus 文档 2.4.x 中的 FAQ 页面作为我们 RAG 中的私有知识库，这是一个简单 RAG 管道的良好数据源。"
   ]
  },
  {
   "cell_type": "markdown",
   "id": "a1a8b9e2",
   "metadata": {},
   "source": [
    "下载 zip 文件并将文档解压到 `milvus_docs` 文件夹。\n",
    "\n",
    "**建议在命令行执行下面命令**"
   ]
  },
  {
   "cell_type": "code",
   "execution_count": null,
   "id": "a81fa031",
   "metadata": {},
   "outputs": [],
   "source": [
    "# !wget https://github.com/milvus-io/milvus-docs/releases/download/v2.4.6-preview/milvus_docs_2.4.x_en.zip\n",
    "# !unzip -q milvus_docs_2.4.x_en.zip -d milvus_docs"
   ]
  },
  {
   "cell_type": "markdown",
   "id": "d1198466",
   "metadata": {},
   "source": [
    "我们从 `milvus_docs/en/faq` 文件夹加载所有 markdown 文件。对于每个文档，我们简单地使用 \"# \" 来分割文件中的内容，这样可以大致分离出 markdown 文件中每个主要部分的内容。"
   ]
  },
  {
   "cell_type": "code",
   "execution_count": null,
   "id": "c9035a5f",
   "metadata": {},
   "outputs": [],
   "source": [
    "from glob import glob\n",
    "\n",
    "text_lines = []\n",
    "\n",
    "for file_path in glob(\"milvus_docs/en/faq/*.md\", recursive=True):\n",
    "    with open(file_path, \"r\") as file:\n",
    "        file_text = file.read()\n",
    "\n",
    "    text_lines += file_text.split(\"# \")"
   ]
  },
  {
   "cell_type": "code",
   "execution_count": null,
   "id": "01b73e74-ee7d-4daf-b7db-1c7a10bfc0bf",
   "metadata": {},
   "outputs": [],
   "source": [
    "len(text_lines)\n",
    "text_lines"
   ]
  },
  {
   "cell_type": "markdown",
   "id": "4cc2a0b8",
   "metadata": {},
   "source": [
    "### 准备 LLM 和 Embedding 模型"
   ]
  },
  {
   "cell_type": "markdown",
   "id": "19eaff7a",
   "metadata": {},
   "source": [
    "DeepSeek 支持 OpenAI 风格的 API，您可以使用相同的 API 进行微小调整来调用 LLM。"
   ]
  },
  {
   "cell_type": "code",
   "execution_count": null,
   "id": "b994eb47",
   "metadata": {},
   "outputs": [],
   "source": [
    "from openai import OpenAI\n",
    "\n",
    "deepseek_client = OpenAI(\n",
    "    api_key=api_key,\n",
    "    base_url=\"https://api.deepseek.com/v1\",  # DeepSeek API 的基地址\n",
    ")"
   ]
  },
  {
   "cell_type": "markdown",
   "id": "1cc5a5e2",
   "metadata": {},
   "source": [
    "定义一个 embedding 模型，使用 `milvus_model` 来生成文本嵌入。我们以 `DefaultEmbeddingFunction` 模型为例，这是一个预训练的轻量级嵌入模型。"
   ]
  },
  {
   "cell_type": "markdown",
   "id": "e3c0d31b",
   "metadata": {},
   "source": [
    "# 使用 Milvus 和 DeepSeek 构建 RAG\n",
    "\n",
    "DeepSeek 帮助开发者使用高性能语言模型构建和扩展 AI 应用。它提供高效的推理、灵活的 API 以及先进的专家混合 (MoE) 架构，用于强大的推理和检索任务。\n",
    "\n",
    "在本教程中，我们将展示如何使用 Milvus 和 DeepSeek 构建一个检索增强生成 (RAG) 管道。"
   ]
  },
  {
   "cell_type": "markdown",
   "id": "72f05e25",
   "metadata": {},
   "source": [
    "## 准备工作"
   ]
  },
  {
   "cell_type": "markdown",
   "id": "283a9faa",
   "metadata": {},
   "source": [
    "### 依赖与环境"
   ]
  },
  {
   "cell_type": "code",
   "execution_count": null,
   "id": "143e7e11",
   "metadata": {},
   "outputs": [
    {
     "name": "stdout",
     "output_type": "stream",
     "text": [
      "Looking in indexes: http://mirrors.cloud.aliyuncs.com/pypi/simple/\n",
      "Requirement already satisfied: pymilvus==2.5.10 in /root/miniconda3/envs/deepseek/lib/python3.13/site-packages (from pymilvus[model]==2.5.10) (2.5.10)\n",
      "Requirement already satisfied: openai==1.82.0 in /root/miniconda3/envs/deepseek/lib/python3.13/site-packages (1.82.0)\n",
      "Requirement already satisfied: requests==2.32.3 in /root/miniconda3/envs/deepseek/lib/python3.13/site-packages (2.32.3)\n",
      "Requirement already satisfied: tqdm==4.67.1 in /root/miniconda3/envs/deepseek/lib/python3.13/site-packages (4.67.1)\n",
      "Requirement already satisfied: torch==2.7.0 in /root/miniconda3/envs/deepseek/lib/python3.13/site-packages (2.7.0)\n",
      "Requirement already satisfied: setuptools>69 in /root/miniconda3/envs/deepseek/lib/python3.13/site-packages (from pymilvus==2.5.10->pymilvus[model]==2.5.10) (80.9.0)\n",
      "Requirement already satisfied: grpcio<=1.67.1,>=1.49.1 in /root/miniconda3/envs/deepseek/lib/python3.13/site-packages (from pymilvus==2.5.10->pymilvus[model]==2.5.10) (1.67.1)\n",
      "Requirement already satisfied: protobuf>=3.20.0 in /root/miniconda3/envs/deepseek/lib/python3.13/site-packages (from pymilvus==2.5.10->pymilvus[model]==2.5.10) (6.33.0)\n",
      "Requirement already satisfied: python-dotenv<2.0.0,>=1.0.1 in /root/miniconda3/envs/deepseek/lib/python3.13/site-packages (from pymilvus==2.5.10->pymilvus[model]==2.5.10) (1.1.1)\n",
      "Requirement already satisfied: ujson>=2.0.0 in /root/miniconda3/envs/deepseek/lib/python3.13/site-packages (from pymilvus==2.5.10->pymilvus[model]==2.5.10) (5.11.0)\n",
      "Requirement already satisfied: pandas>=1.2.4 in /root/miniconda3/envs/deepseek/lib/python3.13/site-packages (from pymilvus==2.5.10->pymilvus[model]==2.5.10) (2.3.3)\n",
      "Requirement already satisfied: milvus-lite>=2.4.0 in /root/miniconda3/envs/deepseek/lib/python3.13/site-packages (from pymilvus==2.5.10->pymilvus[model]==2.5.10) (2.5.1)\n",
      "Requirement already satisfied: anyio<5,>=3.5.0 in /root/miniconda3/envs/deepseek/lib/python3.13/site-packages (from openai==1.82.0) (4.11.0)\n",
      "Requirement already satisfied: distro<2,>=1.7.0 in /root/miniconda3/envs/deepseek/lib/python3.13/site-packages (from openai==1.82.0) (1.9.0)\n",
      "Requirement already satisfied: httpx<1,>=0.23.0 in /root/miniconda3/envs/deepseek/lib/python3.13/site-packages (from openai==1.82.0) (0.28.1)\n",
      "Requirement already satisfied: jiter<1,>=0.4.0 in /root/miniconda3/envs/deepseek/lib/python3.13/site-packages (from openai==1.82.0) (0.11.1)\n",
      "Requirement already satisfied: pydantic<3,>=1.9.0 in /root/miniconda3/envs/deepseek/lib/python3.13/site-packages (from openai==1.82.0) (2.12.3)\n",
      "Requirement already satisfied: sniffio in /root/miniconda3/envs/deepseek/lib/python3.13/site-packages (from openai==1.82.0) (1.3.1)\n",
      "Requirement already satisfied: typing-extensions<5,>=4.11 in /root/miniconda3/envs/deepseek/lib/python3.13/site-packages (from openai==1.82.0) (4.15.0)\n",
      "Requirement already satisfied: charset-normalizer<4,>=2 in /root/miniconda3/envs/deepseek/lib/python3.13/site-packages (from requests==2.32.3) (3.4.4)\n",
      "Requirement already satisfied: idna<4,>=2.5 in /root/miniconda3/envs/deepseek/lib/python3.13/site-packages (from requests==2.32.3) (3.11)\n",
      "Requirement already satisfied: urllib3<3,>=1.21.1 in /root/miniconda3/envs/deepseek/lib/python3.13/site-packages (from requests==2.32.3) (2.5.0)\n",
      "Requirement already satisfied: certifi>=2017.4.17 in /root/miniconda3/envs/deepseek/lib/python3.13/site-packages (from requests==2.32.3) (2025.10.5)\n",
      "Requirement already satisfied: filelock in /root/miniconda3/envs/deepseek/lib/python3.13/site-packages (from torch==2.7.0) (3.20.0)\n",
      "Requirement already satisfied: sympy>=1.13.3 in /root/miniconda3/envs/deepseek/lib/python3.13/site-packages (from torch==2.7.0) (1.14.0)\n",
      "Requirement already satisfied: networkx in /root/miniconda3/envs/deepseek/lib/python3.13/site-packages (from torch==2.7.0) (3.5)\n",
      "Requirement already satisfied: jinja2 in /root/miniconda3/envs/deepseek/lib/python3.13/site-packages (from torch==2.7.0) (3.1.6)\n",
      "Requirement already satisfied: fsspec in /root/miniconda3/envs/deepseek/lib/python3.13/site-packages (from torch==2.7.0) (2025.9.0)\n",
      "Requirement already satisfied: nvidia-cuda-nvrtc-cu12==12.6.77 in /root/miniconda3/envs/deepseek/lib/python3.13/site-packages (from torch==2.7.0) (12.6.77)\n",
      "Requirement already satisfied: nvidia-cuda-runtime-cu12==12.6.77 in /root/miniconda3/envs/deepseek/lib/python3.13/site-packages (from torch==2.7.0) (12.6.77)\n",
      "Requirement already satisfied: nvidia-cuda-cupti-cu12==12.6.80 in /root/miniconda3/envs/deepseek/lib/python3.13/site-packages (from torch==2.7.0) (12.6.80)\n",
      "Requirement already satisfied: nvidia-cudnn-cu12==9.5.1.17 in /root/miniconda3/envs/deepseek/lib/python3.13/site-packages (from torch==2.7.0) (9.5.1.17)\n",
      "Requirement already satisfied: nvidia-cublas-cu12==12.6.4.1 in /root/miniconda3/envs/deepseek/lib/python3.13/site-packages (from torch==2.7.0) (12.6.4.1)\n",
      "Requirement already satisfied: nvidia-cufft-cu12==11.3.0.4 in /root/miniconda3/envs/deepseek/lib/python3.13/site-packages (from torch==2.7.0) (11.3.0.4)\n",
      "Requirement already satisfied: nvidia-curand-cu12==10.3.7.77 in /root/miniconda3/envs/deepseek/lib/python3.13/site-packages (from torch==2.7.0) (10.3.7.77)\n",
      "Requirement already satisfied: nvidia-cusolver-cu12==11.7.1.2 in /root/miniconda3/envs/deepseek/lib/python3.13/site-packages (from torch==2.7.0) (11.7.1.2)\n",
      "Requirement already satisfied: nvidia-cusparse-cu12==12.5.4.2 in /root/miniconda3/envs/deepseek/lib/python3.13/site-packages (from torch==2.7.0) (12.5.4.2)\n",
      "Requirement already satisfied: nvidia-cusparselt-cu12==0.6.3 in /root/miniconda3/envs/deepseek/lib/python3.13/site-packages (from torch==2.7.0) (0.6.3)\n",
      "Requirement already satisfied: nvidia-nccl-cu12==2.26.2 in /root/miniconda3/envs/deepseek/lib/python3.13/site-packages (from torch==2.7.0) (2.26.2)\n",
      "Requirement already satisfied: nvidia-nvtx-cu12==12.6.77 in /root/miniconda3/envs/deepseek/lib/python3.13/site-packages (from torch==2.7.0) (12.6.77)\n",
      "Requirement already satisfied: nvidia-nvjitlink-cu12==12.6.85 in /root/miniconda3/envs/deepseek/lib/python3.13/site-packages (from torch==2.7.0) (12.6.85)\n",
      "Requirement already satisfied: nvidia-cufile-cu12==1.11.1.6 in /root/miniconda3/envs/deepseek/lib/python3.13/site-packages (from torch==2.7.0) (1.11.1.6)\n",
      "Requirement already satisfied: triton==3.3.0 in /root/miniconda3/envs/deepseek/lib/python3.13/site-packages (from torch==2.7.0) (3.3.0)\n",
      "Requirement already satisfied: pymilvus.model>=0.3.0 in /root/miniconda3/envs/deepseek/lib/python3.13/site-packages (from pymilvus[model]==2.5.10) (0.3.2)\n",
      "Requirement already satisfied: httpcore==1.* in /root/miniconda3/envs/deepseek/lib/python3.13/site-packages (from httpx<1,>=0.23.0->openai==1.82.0) (1.0.9)\n",
      "Requirement already satisfied: h11>=0.16 in /root/miniconda3/envs/deepseek/lib/python3.13/site-packages (from httpcore==1.*->httpx<1,>=0.23.0->openai==1.82.0) (0.16.0)\n",
      "Requirement already satisfied: annotated-types>=0.6.0 in /root/miniconda3/envs/deepseek/lib/python3.13/site-packages (from pydantic<3,>=1.9.0->openai==1.82.0) (0.7.0)\n",
      "Requirement already satisfied: pydantic-core==2.41.4 in /root/miniconda3/envs/deepseek/lib/python3.13/site-packages (from pydantic<3,>=1.9.0->openai==1.82.0) (2.41.4)\n",
      "Requirement already satisfied: typing-inspection>=0.4.2 in /root/miniconda3/envs/deepseek/lib/python3.13/site-packages (from pydantic<3,>=1.9.0->openai==1.82.0) (0.4.2)\n",
      "Requirement already satisfied: numpy>=1.26.0 in /root/miniconda3/envs/deepseek/lib/python3.13/site-packages (from pandas>=1.2.4->pymilvus==2.5.10->pymilvus[model]==2.5.10) (2.3.4)\n",
      "Requirement already satisfied: python-dateutil>=2.8.2 in /root/miniconda3/envs/deepseek/lib/python3.13/site-packages (from pandas>=1.2.4->pymilvus==2.5.10->pymilvus[model]==2.5.10) (2.9.0.post0)\n",
      "Requirement already satisfied: pytz>=2020.1 in /root/miniconda3/envs/deepseek/lib/python3.13/site-packages (from pandas>=1.2.4->pymilvus==2.5.10->pymilvus[model]==2.5.10) (2025.2)\n",
      "Requirement already satisfied: tzdata>=2022.7 in /root/miniconda3/envs/deepseek/lib/python3.13/site-packages (from pandas>=1.2.4->pymilvus==2.5.10->pymilvus[model]==2.5.10) (2025.2)\n",
      "Requirement already satisfied: transformers>=4.36.0 in /root/miniconda3/envs/deepseek/lib/python3.13/site-packages (from pymilvus.model>=0.3.0->pymilvus[model]==2.5.10) (4.57.1)\n",
      "Requirement already satisfied: onnxruntime in /root/miniconda3/envs/deepseek/lib/python3.13/site-packages (from pymilvus.model>=0.3.0->pymilvus[model]==2.5.10) (1.23.2)\n",
      "Requirement already satisfied: scipy>=1.10.0 in /root/miniconda3/envs/deepseek/lib/python3.13/site-packages (from pymilvus.model>=0.3.0->pymilvus[model]==2.5.10) (1.16.2)\n",
      "Requirement already satisfied: six>=1.5 in /root/miniconda3/envs/deepseek/lib/python3.13/site-packages (from python-dateutil>=2.8.2->pandas>=1.2.4->pymilvus==2.5.10->pymilvus[model]==2.5.10) (1.17.0)\n",
      "Requirement already satisfied: mpmath<1.4,>=1.1.0 in /root/miniconda3/envs/deepseek/lib/python3.13/site-packages (from sympy>=1.13.3->torch==2.7.0) (1.3.0)\n",
      "Requirement already satisfied: huggingface-hub<1.0,>=0.34.0 in /root/miniconda3/envs/deepseek/lib/python3.13/site-packages (from transformers>=4.36.0->pymilvus.model>=0.3.0->pymilvus[model]==2.5.10) (0.35.3)\n",
      "Requirement already satisfied: packaging>=20.0 in /root/miniconda3/envs/deepseek/lib/python3.13/site-packages (from transformers>=4.36.0->pymilvus.model>=0.3.0->pymilvus[model]==2.5.10) (25.0)\n",
      "Requirement already satisfied: pyyaml>=5.1 in /root/miniconda3/envs/deepseek/lib/python3.13/site-packages (from transformers>=4.36.0->pymilvus.model>=0.3.0->pymilvus[model]==2.5.10) (6.0.3)\n",
      "Requirement already satisfied: regex!=2019.12.17 in /root/miniconda3/envs/deepseek/lib/python3.13/site-packages (from transformers>=4.36.0->pymilvus.model>=0.3.0->pymilvus[model]==2.5.10) (2025.10.23)\n",
      "Requirement already satisfied: tokenizers<=0.23.0,>=0.22.0 in /root/miniconda3/envs/deepseek/lib/python3.13/site-packages (from transformers>=4.36.0->pymilvus.model>=0.3.0->pymilvus[model]==2.5.10) (0.22.1)\n",
      "Requirement already satisfied: safetensors>=0.4.3 in /root/miniconda3/envs/deepseek/lib/python3.13/site-packages (from transformers>=4.36.0->pymilvus.model>=0.3.0->pymilvus[model]==2.5.10) (0.6.2)\n",
      "Requirement already satisfied: hf-xet<2.0.0,>=1.1.3 in /root/miniconda3/envs/deepseek/lib/python3.13/site-packages (from huggingface-hub<1.0,>=0.34.0->transformers>=4.36.0->pymilvus.model>=0.3.0->pymilvus[model]==2.5.10) (1.1.10)\n",
      "Requirement already satisfied: MarkupSafe>=2.0 in /root/miniconda3/envs/deepseek/lib/python3.13/site-packages (from jinja2->torch==2.7.0) (3.0.3)\n",
      "Requirement already satisfied: coloredlogs in /root/miniconda3/envs/deepseek/lib/python3.13/site-packages (from onnxruntime->pymilvus.model>=0.3.0->pymilvus[model]==2.5.10) (15.0.1)\n",
      "Requirement already satisfied: flatbuffers in /root/miniconda3/envs/deepseek/lib/python3.13/site-packages (from onnxruntime->pymilvus.model>=0.3.0->pymilvus[model]==2.5.10) (25.9.23)\n",
      "Requirement already satisfied: humanfriendly>=9.1 in /root/miniconda3/envs/deepseek/lib/python3.13/site-packages (from coloredlogs->onnxruntime->pymilvus.model>=0.3.0->pymilvus[model]==2.5.10) (10.0)\n",
      "\u001b[33mWARNING: Running pip as the 'root' user can result in broken permissions and conflicting behaviour with the system package manager, possibly rendering your system unusable. It is recommended to use a virtual environment instead: https://pip.pypa.io/warnings/venv. Use the --root-user-action option if you know what you are doing and want to suppress this warning.\u001b[0m\u001b[33m\n",
      "\u001b[0m"
     ]
    }
   ],
   "source": [
    "!pip install \"pymilvus[model]==2.5.10\" openai==1.82.0 requests==2.32.3 tqdm==4.67.1 torch==2.7.0"
   ]
  },
  {
   "cell_type": "markdown",
   "id": "3dd2084d",
   "metadata": {},
   "source": [
    "---"
   ]
  },
  {
   "cell_type": "code",
   "execution_count": null,
   "id": "027158ea",
   "metadata": {},
   "outputs": [],
   "source": [
    "import os\n",
    "\n",
    "# 从环境变量获取 DeepSeek API Key\n",
    "api_key = os.getenv(\"DEEPSEEK_API_KEY\")"
   ]
  },
  {
   "cell_type": "markdown",
   "id": "af6ac630",
   "metadata": {},
   "source": [
    "### 准备数据"
   ]
  },
  {
   "cell_type": "markdown",
   "id": "97201213",
   "metadata": {},
   "source": [
    "我们使用 Milvus 文档 2.4.x 中的 FAQ 页面作为我们 RAG 中的私有知识库，这是一个简单 RAG 管道的良好数据源。"
   ]
  },
  {
   "cell_type": "markdown",
   "id": "f7d03861",
   "metadata": {},
   "source": [
    "下载 zip 文件并将文档解压到 `milvus_docs` 文件夹。\n",
    "\n",
    "**建议在命令行执行下面命令**"
   ]
  },
  {
   "cell_type": "code",
   "execution_count": null,
   "id": "42189d08",
   "metadata": {},
   "outputs": [],
   "source": [
    "#!wget https://github.com/milvus-io/milvus-docs/releases/download/v2.4.6-preview/milvus_docs_2.4.x_en.zip\n",
    "#!unzip -q milvus_docs_2.4.x_en.zip -d milvus_docs"
   ]
  },
  {
   "cell_type": "markdown",
   "id": "85dd4d32",
   "metadata": {},
   "source": [
    "我们从 `milvus_docs/en/faq` 文件夹加载所有 markdown 文件。对于每个文档，我们简单地使用 \"# \" 来分割文件中的内容，这样可以大致分离出 markdown 文件中每个主要部分的内容。"
   ]
  },
  {
   "cell_type": "code",
   "execution_count": null,
   "id": "062fbfd9",
   "metadata": {},
   "outputs": [],
   "source": [
    "from glob import glob\n",
    "\n",
    "text_lines = []\n",
    "\n",
    "for file_path in glob(\"mfd.md\", recursive=True):\n",
    "    with open(file_path, \"r\") as file:\n",
    "        file_text = file.read()\n",
    "\n",
    "    text_lines += file_text.split(\"# \")"
   ]
  },
  {
   "cell_type": "code",
   "execution_count": null,
   "id": "262ac02c",
   "metadata": {},
   "outputs": [
    {
     "data": {
      "text/plain": [
       "30"
      ]
     },
     "metadata": {},
     "output_type": "display_data"
    }
   ],
   "source": [
    "len(text_lines)"
   ]
  },
  {
   "cell_type": "markdown",
   "id": "9ffac793",
   "metadata": {},
   "source": [
    "### 准备 LLM 和 Embedding 模型"
   ]
  },
  {
   "cell_type": "markdown",
   "id": "3ff84bdd",
   "metadata": {},
   "source": [
    "DeepSeek 支持 OpenAI 风格的 API，您可以使用相同的 API 进行微小调整来调用 LLM。"
   ]
  },
  {
   "cell_type": "code",
   "execution_count": null,
   "id": "dd4d824e",
   "metadata": {},
   "outputs": [],
   "source": [
    "from openai import OpenAI\n",
    "\n",
    "deepseek_client = OpenAI(\n",
    "    api_key=api_key,\n",
    "    base_url=\"https://api.deepseek.com/v1\",  # DeepSeek API 的基地址\n",
    ")\n"
   ]
  },
  {
   "cell_type": "markdown",
   "id": "aa076e55",
   "metadata": {},
   "source": [
    "定义一个 embedding 模型，使用 `milvus_model` 来生成文本嵌入。我们以 `DefaultEmbeddingFunction` 模型为例，这是一个预训练的轻量级嵌入模型。"
   ]
  },
  {
   "cell_type": "code",
   "execution_count": null,
   "id": "c336b5e1",
   "metadata": {},
   "outputs": [],
   "source": [
    "# from pymilvus import model as milvus_model\n",
    "\n",
    "# embedding_model = milvus_model.DefaultEmbeddingFunction()\n",
    "\n",
    "from pymilvus import model as milvus_model\n",
    "\n",
    "# OpenAI国内代理 https://api.apiyi.com/token \n",
    "embedding_model = milvus_model.dense.OpenAIEmbeddingFunction(\n",
    "    model_name='text-embedding-3-large', # Specify the model name\n",
    "    api_key='xxx', # Provide your OpenAI API key\n",
    "    base_url='https://api.apiyi.com/v1',\n",
    "    dimensions=512\n",
    ")"
   ]
  },
  {
   "cell_type": "markdown",
   "id": "cb879cc1",
   "metadata": {},
   "source": [
    "生成一个测试嵌入并打印其维度和前几个元素。"
   ]
  },
  {
   "cell_type": "code",
   "execution_count": null,
   "id": "6f9b3896",
   "metadata": {},
   "outputs": [
    {
     "name": "stdout",
     "output_type": "stream",
     "text": [
      "512\n",
      "[ 0.03623328 -0.04775657 -0.00295616 -0.04050027  0.00829291 -0.04471905\n",
      " -0.02868769  0.08075947  0.05293964  0.01413893]\n"
     ]
    }
   ],
   "source": [
    "test_embedding = embedding_model.encode_queries([\"设定业主大会的目的？\"])[0]\n",
    "embedding_dim = len(test_embedding)\n",
    "print(embedding_dim)\n",
    "print(test_embedding[:10])"
   ]
  },
  {
   "cell_type": "markdown",
   "id": "cde00c3f",
   "metadata": {},
   "source": [
    "## 将数据加载到 Milvus"
   ]
  },
  {
   "cell_type": "markdown",
   "id": "ef9749ab",
   "metadata": {},
   "source": [
    "### 创建 Collection"
   ]
  },
  {
   "cell_type": "code",
   "execution_count": null,
   "id": "401dfcb5",
   "metadata": {},
   "outputs": [],
   "source": [
    "from pymilvus import MilvusClient\n",
    "\n",
    "milvus_client = MilvusClient(uri=\"./milvus_demo.db\")\n",
    "\n",
    "collection_name = \"my_rag_collection\""
   ]
  },
  {
   "cell_type": "markdown",
   "id": "1d556c09",
   "metadata": {},
   "source": [
    "关于 `MilvusClient` 的参数：\n",
    "\n",
    "*   将 `uri` 设置为本地文件，例如 `./milvus.db`，是最方便的方法，因为它会自动利用 Milvus Lite 将所有数据存储在此文件中。\n",
    "*   如果您有大规模数据，可以在 Docker 或 Kubernetes 上设置性能更高的 Milvus 服务器。在此设置中，请使用服务器 URI，例如 `http://localhost:19530`，作为您的 `uri`。\n",
    "*   如果您想使用 Zilliz Cloud（Milvus 的完全托管云服务），请调整 `uri` 和 `token`，它们对应 Zilliz Cloud 中的 Public Endpoint 和 Api key。"
   ]
  },
  {
   "cell_type": "markdown",
   "id": "605e5b85",
   "metadata": {},
   "source": [
    "检查 collection 是否已存在，如果存在则删除它。"
   ]
  },
  {
   "cell_type": "code",
   "execution_count": null,
   "id": "fb77845d",
   "metadata": {},
   "outputs": [],
   "source": [
    "if milvus_client.has_collection(collection_name):\n",
    "    milvus_client.drop_collection(collection_name)"
   ]
  },
  {
   "cell_type": "markdown",
   "id": "3b192da3",
   "metadata": {},
   "source": [
    "创建一个具有指定参数的新 collection。\n",
    "\n",
    "如果我们不指定任何字段信息，Milvus 将自动创建一个默认的 `id` 字段作为主键，以及一个 `vector` 字段来存储向量数据。一个保留的 JSON 字段用于存储非 schema 定义的字段及其值。\n",
    "\n",
    "`metric_type` (距离度量类型):\n",
    "     作用：定义如何计算向量之间的相似程度。\n",
    "     例如：`IP` (内积) - 值越大通常越相似；`L2` (欧氏距离) - 值越小越相似；`COSINE` (余弦相似度) - 通常转换为距离，值越小越相似。\n",
    "     选择依据：根据你的嵌入模型的特性和期望的相似性定义来选择。\n",
    "\n",
    " `consistency_level` (一致性级别):\n",
    "     作用：定义数据写入后，读取操作能多快看到这些新数据。\n",
    "     例如：\n",
    "         `Strong` (强一致性): 总是读到最新数据，可能稍慢。\n",
    "         `Bounded` (有界过期): 可能读到几秒内旧数据，性能较好 (默认)。\n",
    "         `Session` (会话一致性): 自己写入的自己能立刻读到。\n",
    "         `Eventually` (最终一致性): 最终会读到新数据，但没时间保证，性能最好。\n",
    "     选择依据：在数据实时性要求和系统性能之间做权衡。\n",
    "\n",
    "简单来说：\n",
    " `metric_type`：怎么算相似。\n",
    " `consistency_level`：新数据多久能被读到。"
   ]
  },
  {
   "cell_type": "code",
   "execution_count": null,
   "id": "c43b8d4f",
   "metadata": {},
   "outputs": [],
   "source": [
    "milvus_client.create_collection(\n",
    "    collection_name=collection_name,\n",
    "    dimension=embedding_dim,\n",
    "    metric_type=\"IP\",  # 内积距离\n",
    "    consistency_level=\"Strong\",  # 支持的值为 (`\"Strong\"`, `\"Session\"`, `\"Bounded\"`, `\"Eventually\"`)。更多详情请参见 https://milvus.io/docs/consistency.md#Consistency-Level。\n",
    ")"
   ]
  },
  {
   "cell_type": "markdown",
   "id": "9d05a8ba",
   "metadata": {},
   "source": [
    "### 插入数据"
   ]
  },
  {
   "cell_type": "markdown",
   "id": "15d3b3d8",
   "metadata": {},
   "source": [
    "遍历文本行，创建嵌入，然后将数据插入 Milvus。\n",
    "\n",
    "这里有一个新字段 `text`，它是在 collection schema 中未定义的字段。它将自动添加到保留的 JSON 动态字段中，该字段在高级别上可以被视为普通字段。"
   ]
  },
  {
   "cell_type": "code",
   "execution_count": null,
   "id": "5c78e556",
   "metadata": {},
   "outputs": [
    {
     "name": "stderr",
     "output_type": "stream",
     "text": [
      "Creating embeddings: 100%|██████████| 30/30 [00:00<00:00, 270600.26it/s]\n"
     ]
    },
    {
     "data": {
      "text/plain": [
       "{'insert_count': 30, 'ids': [0, 1, 2, 3, 4, 5, 6, 7, 8, 9, 10, 11, 12, 13, 14, 15, 16, 17, 18, 19, 20, 21, 22, 23, 24, 25, 26, 27, 28, 29], 'cost': 0}"
      ]
     },
     "metadata": {},
     "output_type": "display_data"
    }
   ],
   "source": [
    "from tqdm import tqdm\n",
    "\n",
    "data = []\n",
    "\n",
    "doc_embeddings = embedding_model.encode_documents(text_lines)\n",
    "\n",
    "for i, line in enumerate(tqdm(text_lines, desc=\"Creating embeddings\")):\n",
    "    data.append({\"id\": i, \"vector\": doc_embeddings[i], \"text\": line})\n",
    "\n",
    "milvus_client.insert(collection_name=collection_name, data=data)"
   ]
  },
  {
   "cell_type": "markdown",
   "id": "ba9937fc",
   "metadata": {},
   "source": [
    "## 构建 RAG"
   ]
  },
  {
   "cell_type": "markdown",
   "id": "6968d632",
   "metadata": {},
   "source": [
    "### 检索查询数据"
   ]
  },
  {
   "cell_type": "markdown",
   "id": "7b564eaf",
   "metadata": {},
   "source": [
    "我们指定一个关于 Milvus 的常见问题。"
   ]
  },
  {
   "cell_type": "code",
   "execution_count": null,
   "id": "6b1c30a1",
   "metadata": {},
   "outputs": [],
   "source": [
    "question = \"不动产登记机构的职责？\""
   ]
  },
  {
   "cell_type": "markdown",
   "id": "4f373917",
   "metadata": {},
   "source": [
    "在 collection 中搜索该问题，并检索语义上最匹配的前3个结果。"
   ]
  },
  {
   "cell_type": "code",
   "execution_count": null,
   "id": "a4c8a9dd",
   "metadata": {},
   "outputs": [],
   "source": [
    "search_res = milvus_client.search(\n",
    "    collection_name=collection_name,\n",
    "    data=embedding_model.encode_queries(\n",
    "        [question]\n",
    "    ),  # 将问题转换为嵌入向量\n",
    "    limit=3,  # 返回前3个结果\n",
    "    search_params={\"metric_type\": \"IP\", \"params\": {}},  # 内积距离\n",
    "    output_fields=[\"text\"],  # 返回 text 字段\n",
    ")"
   ]
  },
  {
   "cell_type": "markdown",
   "id": "817afcda",
   "metadata": {},
   "source": [
    "让我们看一下查询的搜索结果"
   ]
  },
  {
   "cell_type": "code",
   "execution_count": null,
   "id": "4ad029b8",
   "metadata": {},
   "outputs": [
    {
     "name": "stdout",
     "output_type": "stream",
     "text": [
      "[\n",
      "    [\n",
      "        \"\\u7b2c\\u4e00\\u7ae0 \\u4e00\\u822c\\u89c4\\u5b9a\\n\\n**\\u7b2c\\u4e8c\\u767e\\u96f6\\u56db\\u6761** \\u4e3a\\u4e86\\u660e\\u786e\\u7269\\u7684\\u5f52\\u5c5e\\uff0c\\u5145\\u5206\\u53d1\\u6325\\u7269\\u7684\\u6548\\u7528\\uff0c\\u4fdd\\u62a4\\u6743\\u5229\\u4eba\\u7684\\u5408\\u6cd5\\u6743\\u76ca\\uff0c\\u7ef4\\u62a4\\u793e\\u4f1a\\u7ecf\\u6d4e\\u79e9\\u5e8f\\uff0c\\u5236\\u5b9a\\u672c\\u7f16\\u3002\\n\\n**\\u7b2c\\u4e8c\\u767e\\u96f6\\u4e94\\u6761** \\u672c\\u7f16\\u8c03\\u6574\\u56e0\\u7269\\u7684\\u5f52\\u5c5e\\u548c\\u5229\\u7528\\u4ea7\\u751f\\u7684\\u6c11\\u4e8b\\u5173\\u7cfb\\u3002\\n\\n**\\u7b2c\\u4e8c\\u767e\\u96f6\\u516d\\u6761** \\u56fd\\u5bb6\\u575a\\u6301\\u548c\\u5b8c\\u5584\\u793e\\u4f1a\\u4e3b\\u4e49\\u516c\\u6709\\u5236\\u4e3a\\u4e3b\\u4f53\\u3001\\u591a\\u79cd\\u6240\\u6709\\u5236\\u7ecf\\u6d4e\\u5171\\u540c\\u53d1\\u5c55\\u7684\\u57fa\\u672c\\u7ecf\\u6d4e\\u5236\\u5ea6\\u3002\\n\\u56fd\\u5bb6\\u5de9\\u56fa\\u548c\\u53d1\\u5c55\\u516c\\u6709\\u5236\\u7ecf\\u6d4e\\uff0c\\u9f13\\u52b1\\u3001\\u652f\\u6301\\u548c\\u5f15\\u5bfc\\u975e\\u516c\\u6709\\u5236\\u7ecf\\u6d4e\\u7684\\u53d1\\u5c55\\u3002\\n\\u56fd\\u5bb6\\u5b9e\\u884c\\u793e\\u4f1a\\u4e3b\\u4e49\\u5e02\\u573a\\u7ecf\\u6d4e\\uff0c\\u4fdd\\u969c\\u4e00\\u5207\\u5e02\\u573a\\u4e3b\\u4f53\\u7684\\u5e73\\u7b49\\u6cd5\\u5f8b\\u5730\\u4f4d\\u548c\\u53d1\\u5c55\\u6743\\u5229\\u3002\\n\\n**\\u7b2c\\u4e8c\\u767e\\u96f6\\u4e03\\u6761** \\u56fd\\u5bb6\\u3001\\u96c6\\u4f53\\u3001\\u79c1\\u4eba\\u7684\\u7269\\u6743\\u548c\\u5176\\u4ed6\\u6743\\u5229\\u4eba\\u7684\\u7269\\u6743\\u53d7\\u6cd5\\u5f8b\\u5e73\\u7b49\\u4fdd\\u62a4\\uff0c\\u4efb\\u4f55\\u7ec4\\u7ec7\\u6216\\u8005\\u4e2a\\u4eba\\u4e0d\\u5f97\\u4fb5\\u72af\\u3002\\n\\n**\\u7b2c\\u4e8c\\u767e\\u96f6\\u516b\\u6761** \\u4e0d\\u52a8\\u4ea7\\u6743\\u5229\\u7684\\u8bbe\\u7acb\\u3001\\u53d8\\u66f4\\u3001\\u8f6c\\u8ba9\\u548c\\u6d88\\u706d\\uff0c\\u5e94\\u5f53\\u4f9d\\u7167\\u6cd5\\u5f8b\\u89c4\\u5b9a\\u767b\\u8bb0\\u3002\\u52a8\\u4ea7\\u7269\\u6743\\u7684\\u8bbe\\u7acb\\u548c\\u8f6c\\u8ba9\\uff0c\\u5e94\\u5f53\\u4f9d\\u7167\\u6cd5\\u5f8b\\u89c4\\u5b9a\\u4ea4\\u4ed8\\u3002\\n\\n**\\u7b2c\\u4e8c\\u767e\\u96f6\\u4e5d\\u6761** \\u4e0d\\u52a8\\u4ea7\\u7269\\u6743\\u7684\\u8bbe\\u7acb\\u3001\\u53d8\\u66f4\\u3001\\u8f6c\\u8ba9\\u548c\\u6d88\\u706d\\uff0c\\u7ecf\\u4f9d\\u6cd5\\u767b\\u8bb0\\uff0c\\u53d1\\u751f\\u6548\\u529b\\uff1b\\u672a\\u7ecf\\u767b\\u8bb0\\uff0c\\u4e0d\\u53d1\\u751f\\u6548\\u529b\\uff0c\\u4f46\\u662f\\u6cd5\\u5f8b\\u53e6\\u6709\\u89c4\\u5b9a\\u7684\\u9664\\u5916\\u3002\\n\\u4f9d\\u6cd5\\u5c5e\\u4e8e\\u56fd\\u5bb6\\u6240\\u6709\\u7684\\u81ea\\u7136\\u8d44\\u6e90\\uff0c\\u6240\\u6709\\u6743\\u53ef\\u4ee5\\u4e0d\\u767b\\u8bb0\\u3002\\n\\n**\\u7b2c\\u4e8c\\u767e\\u4e00\\u5341\\u6761** \\u4e0d\\u52a8\\u4ea7\\u767b\\u8bb0\\uff0c\\u7531\\u4e0d\\u52a8\\u4ea7\\u6240\\u5728\\u5730\\u7684\\u767b\\u8bb0\\u673a\\u6784\\u529e\\u7406\\u3002\\n\\u56fd\\u5bb6\\u5bf9\\u4e0d\\u52a8\\u4ea7\\u5b9e\\u884c\\u7edf\\u4e00\\u767b\\u8bb0\\u5236\\u5ea6\\u3002\\u7edf\\u4e00\\u767b\\u8bb0\\u7684\\u8303\\u56f4\\u3001\\u767b\\u8bb0\\u673a\\u6784\\u548c\\u767b\\u8bb0\\u529e\\u6cd5\\uff0c\\u7531\\u6cd5\\u5f8b\\u3001\\u884c\\u653f\\u6cd5\\u89c4\\u89c4\\u5b9a\\u3002\\n\\n**\\u7b2c\\u4e8c\\u767e\\u4e00\\u5341\\u4e00\\u6761** \\u5f53\\u4e8b\\u4eba\\u7533\\u8bf7\\u767b\\u8bb0\\uff0c\\u5e94\\u5f53\\u6839\\u636e\\u4e0d\\u540c\\u767b\\u8bb0\\u4e8b\\u9879\\u63d0\\u4f9b\\u6750\\u6599\\u3002\\n\\u7533\\u8bf7\\u767b\\u8bb0\\u6750\\u6599\\u4ee5\\u53ca\\u767b\\u8bb0\\u4e8b\\u9879\\u76f8\\u5173\\u4fe1\\u606f\\uff0c\\u53ef\\u4ee5\\u516c\\u5f00\\u67e5\\u8be2\\u3002\\n\\n**\\u7b2c\\u4e8c\\u767e\\u4e00\\u5341\\u4e8c\\u6761** \\u767b\\u8bb0\\u673a\\u6784\\u5e94\\u5f53\\u5c65\\u884c\\u4e0b\\u5217\\u804c\\u8d23\\uff1a\\n\\uff08\\u4e00\\uff09\\u5ba1\\u67e5\\u7533\\u8bf7\\u4eba\\u63d0\\u4f9b\\u7684\\u6750\\u6599\\uff1b\\n\\uff08\\u4e8c\\uff09\\u8be2\\u95ee\\u7533\\u8bf7\\u4eba\\uff1b\\n\\uff08\\u4e09\\uff09\\u5982\\u5b9e\\u3001\\u53ca\\u65f6\\u767b\\u8bb0\\uff1b\\n\\uff08\\u56db\\uff09\\u6cd5\\u5f8b\\u3001\\u884c\\u653f\\u6cd5\\u89c4\\u89c4\\u5b9a\\u7684\\u5176\\u4ed6\\u804c\\u8d23\\u3002\\n\\u7533\\u8bf7\\u767b\\u8bb0\\u7684\\u4e0d\\u52a8\\u4ea7\\u5b58\\u5728\\u5c1a\\u672a\\u89e3\\u51b3\\u7684\\u6743\\u5c5e\\u4e89\\u8bae\\u7684\\uff0c\\u767b\\u8bb0\\u673a\\u6784\\u5e94\\u5f53\\u4e0d\\u4e88\\u767b\\u8bb0\\uff0c\\u5e76\\u4e66\\u9762\\u544a\\u77e5\\u7533\\u8bf7\\u4eba\\u3002\\n\\n**\\u7b2c\\u4e8c\\u767e\\u4e00\\u5341\\u4e09\\u6761** \\u767b\\u8bb0\\u673a\\u6784\\u4e0d\\u5f97\\u6709\\u4e0b\\u5217\\u884c\\u4e3a\\uff1a\\n\\uff08\\u4e00\\uff09\\u8981\\u6c42\\u5bf9\\u4e0d\\u52a8\\u4ea7\\u8fdb\\u884c\\u8bc4\\u4f30\\uff1b\\n\\uff08\\u4e8c\\uff09\\u4ee5\\u4e0d\\u52a8\\u4ea7\\u767b\\u8bb0\\u4e3a\\u6761\\u4ef6\\u6536\\u53d6\\u5176\\u4ed6\\u8d39\\u7528\\uff1b\\n\\uff08\\u4e09\\uff09\\u8d85\\u51fa\\u767b\\u8bb0\\u804c\\u8d23\\u8303\\u56f4\\u7684\\u5176\\u4ed6\\u884c\\u4e3a\\u3002\\n\\n**\\u7b2c\\u4e8c\\u767e\\u4e00\\u5341\\u56db\\u6761** \\u4e0d\\u52a8\\u4ea7\\u7269\\u6743\\u7684\\u8bbe\\u7acb\\u3001\\u53d8\\u66f4\\u3001\\u8f6c\\u8ba9\\u548c\\u6d88\\u706d\\uff0c\\u4f9d\\u7167\\u6cd5\\u5f8b\\u89c4\\u5b9a\\u5e94\\u5f53\\u767b\\u8bb0\\u7684\\uff0c\\u81ea\\u8bb0\\u8f7d\\u4e8e\\u4e0d\\u52a8\\u4ea7\\u767b\\u8bb0\\u7c3f\\u65f6\\u53d1\\u751f\\u6548\\u529b\\u3002\\n\\n**\\u7b2c\\u4e8c\\u767e\\u4e00\\u5341\\u4e94\\u6761** \\u4e0d\\u52a8\\u4ea7\\u767b\\u8bb0\\u7c3f\\u7531\\u767b\\u8bb0\\u673a\\u6784\\u7ba1\\u7406\\u3002\\n\\u4e0d\\u52a8\\u4ea7\\u767b\\u8bb0\\u7c3f\\u5e94\\u5f53\\u91c7\\u7528\\u7eb8\\u8d28\\u5f62\\u5f0f\\u6216\\u8005\\u7535\\u5b50\\u5f62\\u5f0f\\u3002\\n\\u4e0d\\u52a8\\u4ea7\\u767b\\u8bb0\\u7c3f\\u91c7\\u7528\\u7535\\u5b50\\u5f62\\u5f0f\\u7684\\uff0c\\u5e94\\u5f53\\u5907\\u4efd\\u3002\\n\\n**\\u7b2c\\u4e8c\\u767e\\u4e00\\u5341\\u516d\\u6761** \\u4e0d\\u52a8\\u4ea7\\u767b\\u8bb0\\u7c3f\\u662f\\u7269\\u6743\\u5f52\\u5c5e\\u548c\\u5185\\u5bb9\\u7684\\u6839\\u636e\\u3002\\n\\u4e0d\\u52a8\\u4ea7\\u767b\\u8bb0\\u7c3f\\u8bb0\\u8f7d\\u7684\\u4e8b\\u9879\\u4e0e\\u4e0d\\u52a8\\u4ea7\\u6743\\u5c5e\\u8bc1\\u4e66\\u8bb0\\u8f7d\\u7684\\u4e8b\\u9879\\u4e0d\\u4e00\\u81f4\\u7684\\uff0c\\u9664\\u6709\\u8bc1\\u636e\\u8bc1\\u660e\\u4e0d\\u52a8\\u4ea7\\u767b\\u8bb0\\u7c3f\\u786e\\u6709\\u9519\\u8bef\\u5916\\uff0c\\u4ee5\\u4e0d\\u52a8\\u4ea7\\u767b\\u8bb0\\u7c3f\\u4e3a\\u51c6\\u3002\\n\\n**\\u7b2c\\u4e8c\\u767e\\u4e00\\u5341\\u4e03\\u6761** \\u4e0d\\u52a8\\u4ea7\\u6743\\u5c5e\\u8bc1\\u4e66\\u662f\\u6743\\u5229\\u4eba\\u4eab\\u6709\\u8be5\\u4e0d\\u52a8\\u4ea7\\u7269\\u6743\\u7684\\u8bc1\\u660e\\u3002\\u4e0d\\u52a8\\u4ea7\\u6743\\u5c5e\\u8bc1\\u4e66\\u8bb0\\u8f7d\\u7684\\u4e8b\\u9879\\uff0c\\u5e94\\u5f53\\u4e0e\\u4e0d\\u52a8\\u4ea7\\u767b\\u8bb0\\u7c3f\\u4e00\\u81f4\\uff1b\\u4e0d\\u4e00\\u81f4\\u7684\\uff0c\\u9664\\u6709\\u8bc1\\u636e\\u8bc1\\u660e\\u4e0d\\u52a8\\u4ea7\\u767b\\u8bb0\\u7c3f\\u786e\\u6709\\u9519\\u8bef\\u5916\\uff0c\\u4ee5\\u4e0d\\u52a8\\u4ea7\\u767b\\u8bb0\\u7c3f\\u4e3a\\u51c6\\u3002\\n\\n**\\u7b2c\\u4e8c\\u767e\\u4e00\\u5341\\u516b\\u6761** \\u6743\\u5229\\u4eba\\u3001\\u5229\\u5bb3\\u5173\\u7cfb\\u4eba\\u53ef\\u4ee5\\u7533\\u8bf7\\u67e5\\u8be2\\u3001\\u590d\\u5236\\u4e0d\\u52a8\\u4ea7\\u767b\\u8bb0\\u8d44\\u6599\\uff0c\\u767b\\u8bb0\\u673a\\u6784\\u5e94\\u5f53\\u63d0\\u4f9b\\u3002\\n\\n**\\u7b2c\\u4e8c\\u767e\\u4e00\\u5341\\u4e5d\\u6761** \\u5229\\u5bb3\\u5173\\u7cfb\\u4eba\\u53ef\\u4ee5\\u7533\\u8bf7\\u67e5\\u8be2\\u4e0d\\u52a8\\u4ea7\\u767b\\u8bb0\\u8d44\\u6599\\u3002\\u7533\\u8bf7\\u67e5\\u8be2\\u7684\\uff0c\\u767b\\u8bb0\\u673a\\u6784\\u5e94\\u5f53\\u63d0\\u4f9b\\u3002\\n\\n**\\u7b2c\\u4e8c\\u767e\\u4e8c\\u5341\\u6761** \\u6743\\u5229\\u4eba\\u3001\\u5229\\u5bb3\\u5173\\u7cfb\\u4eba\\u8ba4\\u4e3a\\u4e0d\\u52a8\\u4ea7\\u767b\\u8bb0\\u7c3f\\u8bb0\\u8f7d\\u7684\\u4e8b\\u9879\\u9519\\u8bef\\u7684\\uff0c\\u53ef\\u4ee5\\u7533\\u8bf7\\u66f4\\u6b63\\u767b\\u8bb0\\u3002\\u4e0d\\u52a8\\u4ea7\\u767b\\u8bb0\\u7c3f\\u8bb0\\u8f7d\\u7684\\u6743\\u5229\\u4eba\\u4e66\\u9762\\u540c\\u610f\\u6216\\u8005\\u6709\\u8bc1\\u636e\\u8bc1\\u660e\\u767b\\u8bb0\\u786e\\u6709\\u9519\\u8bef\\u7684\\uff0c\\u767b\\u8bb0\\u673a\\u6784\\u5e94\\u5f53\\u4e88\\u4ee5\\u66f4\\u6b63\\u3002\\n\\u4e0d\\u52a8\\u4ea7\\u767b\\u8bb0\\u7c3f\\u8bb0\\u8f7d\\u7684\\u6743\\u5229\\u4eba\\u4e0d\\u540c\\u610f\\u66f4\\u6b63\\u7684\\uff0c\\u5229\\u5bb3\\u5173\\u7cfb\\u4eba\\u53ef\\u4ee5\\u7533\\u8bf7\\u5f02\\u8bae\\u767b\\u8bb0\\u3002\\u767b\\u8bb0\\u673a\\u6784\\u4e88\\u4ee5\\u5f02\\u8bae\\u767b\\u8bb0\\u7684\\uff0c\\u7533\\u8bf7\\u4eba\\u5728\\u5f02\\u8bae\\u767b\\u8bb0\\u4e4b\\u65e5\\u8d77\\u5341\\u4e94\\u65e5\\u5185\\u4e0d\\u63d0\\u8d77\\u8bc9\\u8bbc\\u7684\\uff0c\\u5f02\\u8bae\\u767b\\u8bb0\\u5931\\u6548\\u3002\\u5f02\\u8bae\\u767b\\u8bb0\\u4e0d\\u5f53\\uff0c\\u9020\\u6210\\u6743\\u5229\\u4eba\\u635f\\u5bb3\\u7684\\uff0c\\u6743\\u5229\\u4eba\\u53ef\\u4ee5\\u8bf7\\u6c42\\u635f\\u5bb3\\u8d54\\u507f\\u3002\\n\\n**\\u7b2c\\u4e8c\\u767e\\u4e8c\\u5341\\u4e00\\u6761** \\u5f53\\u4e8b\\u4eba\\u7b7e\\u8ba2\\u4e70\\u5356\\u623f\\u5c4b\\u7684\\u534f\\u8bae\\u6216\\u8005\\u7b7e\\u8ba2\\u5176\\u4ed6\\u4e0d\\u52a8\\u4ea7\\u7269\\u6743\\u7684\\u534f\\u8bae\\uff0c\\u4e3a\\u4fdd\\u969c\\u5c06\\u6765\\u5b9e\\u73b0\\u7269\\u6743\\uff0c\\u53ef\\u4ee5\\u4f9d\\u7167\\u7ea6\\u5b9a\\u5411\\u767b\\u8bb0\\u673a\\u6784\\u7533\\u8bf7\\u9884\\u544a\\u767b\\u8bb0\\u3002\\u9884\\u544a\\u767b\\u8bb0\\u540e\\uff0c\\u672a\\u7ecf\\u9884\\u544a\\u767b\\u8bb0\\u7684\\u6743\\u5229\\u4eba\\u540c\\u610f\\uff0c\\u5904\\u5206\\u8be5\\u4e0d\\u52a8\\u4ea7\\u7684\\uff0c\\u4e0d\\u53d1\\u751f\\u7269\\u6743\\u6548\\u529b\\u3002\\n\\u9884\\u544a\\u767b\\u8bb0\\u540e\\uff0c\\u503a\\u6743\\u6d88\\u706d\\u6216\\u8005\\u81ea\\u80fd\\u591f\\u8fdb\\u884c\\u4e0d\\u52a8\\u4ea7\\u767b\\u8bb0\\u4e4b\\u65e5\\u8d77\\u4e5d\\u5341\\u65e5\\u5185\\u672a\\u7533\\u8bf7\\u767b\\u8bb0\\u7684\\uff0c\\u9884\\u544a\\u767b\\u8bb0\\u5931\\u6548\\u3002\\n\\n**\\u7b2c\\u4e8c\\u767e\\u4e8c\\u5341\\u4e8c\\u6761** \\u5f53\\u4e8b\\u4eba\\u63d0\\u4f9b\\u865a\\u5047\\u6750\\u6599\\u7533\\u8bf7\\u767b\\u8bb0\\uff0c\\u7ed9\\u4ed6\\u4eba\\u9020\\u6210\\u635f\\u5bb3\\u7684\\uff0c\\u5e94\\u5f53\\u627f\\u62c5\\u8d54\\u507f\\u8d23\\u4efb\\u3002\\n\\u56e0\\u767b\\u8bb0\\u673a\\u6784\\u767b\\u8bb0\\u9519\\u8bef\\uff0c\\u7ed9\\u4ed6\\u4eba\\u9020\\u6210\\u635f\\u5bb3\\u7684\\uff0c\\u5e94\\u5f53\\u627f\\u62c5\\u8d54\\u507f\\u8d23\\u4efb\\u3002\\u767b\\u8bb0\\u673a\\u6784\\u8d54\\u507f\\u540e\\uff0c\\u53ef\\u4ee5\\u5411\\u9020\\u6210\\u767b\\u8bb0\\u9519\\u8bef\\u7684\\u4eba\\u8ffd\\u507f\\u3002\\n\\n**\\u7b2c\\u4e8c\\u767e\\u4e8c\\u5341\\u4e09\\u6761** \\u52a8\\u4ea7\\u7269\\u6743\\u7684\\u8bbe\\u7acb\\u548c\\u8f6c\\u8ba9\\uff0c\\u81ea\\u4ea4\\u4ed8\\u65f6\\u53d1\\u751f\\u6548\\u529b\\uff0c\\u4f46\\u662f\\u6cd5\\u5f8b\\u53e6\\u6709\\u89c4\\u5b9a\\u7684\\u9664\\u5916\\u3002\\n\\n**\\u7b2c\\u4e8c\\u767e\\u4e8c\\u5341\\u56db\\u6761** \\u8239\\u8236\\u3001\\u822a\\u7a7a\\u5668\\u548c\\u673a\\u52a8\\u8f66\\u7b49\\u7684\\u7269\\u6743\\u7684\\u8bbe\\u7acb\\u3001\\u53d8\\u66f4\\u3001\\u8f6c\\u8ba9\\u548c\\u6d88\\u706d\\uff0c\\u672a\\u7ecf\\u767b\\u8bb0\\uff0c\\u4e0d\\u5f97\\u5bf9\\u6297\\u5584\\u610f\\u7b2c\\u4e09\\u4eba\\u3002\\n\\n**\\u7b2c\\u4e8c\\u767e\\u4e8c\\u5341\\u4e94\\u6761** \\u52a8\\u4ea7\\u7269\\u6743\\u8bbe\\u7acb\\u548c\\u8f6c\\u8ba9\\u524d\\uff0c\\u6743\\u5229\\u4eba\\u5df2\\u7ecf\\u5360\\u6709\\u8be5\\u52a8\\u4ea7\\u7684\\uff0c\\u7269\\u6743\\u81ea\\u6c11\\u4e8b\\u6cd5\\u5f8b\\u884c\\u4e3a\\u751f\\u6548\\u65f6\\u53d1\\u751f\\u6548\\u529b\\u3002\\n\\n**\\u7b2c\\u4e8c\\u767e\\u4e8c\\u5341\\u516d\\u6761** \\u52a8\\u4ea7\\u7269\\u6743\\u8bbe\\u7acb\\u548c\\u8f6c\\u8ba9\\uff0c\\u5408\\u540c\\u751f\\u6548\\u65f6\\uff0c\\u6240\\u6709\\u6743\\u6ca1\\u6709\\u8f6c\\u79fb\\uff0c\\u6807\\u7684\\u7269\\u4e5f\\u672a\\u4ea4\\u4ed8\\uff0c\\u6807\\u7684\\u7269\\u5df2\\u7ecf\\u79fb\\u8f6c\\u5360\\u6709\\u7684\\uff0c\\u6240\\u6709\\u6743\\u81ea\\u4ea4\\u4ed8\\u65f6\\u53d1\\u751f\\u6548\\u529b\\u3002\\n\\u56e0\\u53d7\\u8ba9\\u4eba\\u53d6\\u5f97\\u5360\\u6709\\u7684\\uff0c\\u6240\\u6709\\u6743\\u81ea\\u4ea4\\u4ed8\\u65f6\\u53d1\\u751f\\u6548\\u529b\\u3002\\n\\n**\\u7b2c\\u4e8c\\u767e\\u4e8c\\u5341\\u4e03\\u6761** \\u52a8\\u4ea7\\u7269\\u6743\\u8bbe\\u7acb\\u548c\\u8f6c\\u8ba9\\uff0c\\u5408\\u540c\\u751f\\u6548\\u65f6\\uff0c\\u6240\\u6709\\u6743\\u6ca1\\u6709\\u8f6c\\u79fb\\uff0c\\u6807\\u7684\\u7269\\u4e5f\\u672a\\u4ea4\\u4ed8\\uff0c\\u6807\\u7684\\u7269\\u7531\\u7b2c\\u4e09\\u4eba\\u5360\\u6709\\u7684\\uff0c\\u51fa\\u8ba9\\u4eba\\u5c06\\u8fd4\\u8fd8\\u8bf7\\u6c42\\u6743\\u8f6c\\u8ba9\\u7ed9\\u53d7\\u8ba9\\u4eba\\u65f6\\uff0c\\u7269\\u6743\\u81ea\\u4ea4\\u4ed8\\u65f6\\u53d1\\u751f\\u6548\\u529b\\u3002\\n\\u56e0\\u53d7\\u8ba9\\u4eba\\u53d6\\u5f97\\u5360\\u6709\\u7684\\uff0c\\u6240\\u6709\\u6743\\u81ea\\u4ea4\\u4ed8\\u65f6\\u53d1\\u751f\\u6548\\u529b\\u3002\\n\\n**\\u7b2c\\u4e8c\\u767e\\u4e8c\\u5341\\u516b\\u6761** \\u52a8\\u4ea7\\u7269\\u6743\\u8bbe\\u7acb\\u548c\\u8f6c\\u8ba9\\uff0c\\u5408\\u540c\\u751f\\u6548\\u65f6\\uff0c\\u6240\\u6709\\u6743\\u6ca1\\u6709\\u8f6c\\u79fb\\uff0c\\u6807\\u7684\\u7269\\u4e5f\\u672a\\u4ea4\\u4ed8\\uff0c\\u6807\\u7684\\u7269\\u7531\\u51fa\\u8ba9\\u4eba\\u7ee7\\u7eed\\u5360\\u6709\\u7684\\uff0c\\u7269\\u6743\\u81ea\\u5408\\u540c\\u751f\\u6548\\u65f6\\u53d1\\u751f\\u6548\\u529b\\u3002\\n\\u56e0\\u53d7\\u8ba9\\u4eba\\u53d6\\u5f97\\u5360\\u6709\\u7684\\uff0c\\u6240\\u6709\\u6743\\u81ea\\u4ea4\\u4ed8\\u65f6\\u53d1\\u751f\\u6548\\u529b\\u3002\\n\\n**\\u7b2c\\u4e8c\\u767e\\u4e8c\\u5341\\u4e5d\\u6761** \\u56e0\\u4e70\\u5356\\u3001\\u8bbe\\u5b9a\\u62c5\\u4fdd\\u7269\\u6743\\u7b49\\u57fa\\u4e8e\\u6cd5\\u5f8b\\u884c\\u4e3a\\u800c\\u53d6\\u5f97\\u7269\\u6743\\u7684\\uff0c\\u81ea\\u6cd5\\u5f8b\\u884c\\u4e3a\\u751f\\u6548\\u65f6\\u53d1\\u751f\\u6548\\u529b\\uff0c\\u4f46\\u662f\\u6cd5\\u5f8b\\u53e6\\u6709\\u89c4\\u5b9a\\u7684\\u9664\\u5916\\u3002\\n\\n**\\u7b2c\\u4e8c\\u767e\\u4e09\\u5341\\u6761** \\u56e0\\u7ee7\\u627f\\u53d6\\u5f97\\u7269\\u6743\\u7684\\uff0c\\u81ea\\u7ee7\\u627f\\u5f00\\u59cb\\u65f6\\u53d1\\u751f\\u6548\\u529b\\u3002\\n\\n**\\u7b2c\\u4e8c\\u767e\\u4e09\\u5341\\u4e00\\u6761** \\u56e0\\u5408\\u6cd5\\u5efa\\u9020\\u3001\\u62c6\\u9664\\u623f\\u5c4b\\u7b49\\u4e8b\\u5b9e\\u884c\\u4e3a\\u8bbe\\u7acb\\u6216\\u8005\\u6d88\\u706d\\u7269\\u6743\\u7684\\uff0c\\u81ea\\u4e8b\\u5b9e\\u884c\\u4e3a\\u5b8c\\u6210\\u65f6\\u53d1\\u751f\\u6548\\u529b\\u3002\\n\\n**\\u7b2c\\u4e8c\\u767e\\u4e09\\u5341\\u4e8c\\u6761** \\u5904\\u5206\\u6743\\u4eba\\u5c06\\u4e0d\\u52a8\\u4ea7\\u6216\\u8005\\u52a8\\u4ea7\\u8f6c\\u8ba9\\u7ed9\\u53d7\\u8ba9\\u4eba\\uff0c\\u6240\\u6709\\u6743\\u5df2\\u7ecf\\u8f6c\\u79fb\\uff0c\\u53d7\\u8ba9\\u4eba\\u5c1a\\u672a\\u5360\\u6709\\u7684\\uff0c\\u7269\\u6743\\u81ea\\u4ea4\\u4ed8\\u65f6\\u53d1\\u751f\\u6548\\u529b\\u3002\\n\\u53d7\\u8ba9\\u4eba\\u5360\\u6709\\u7684\\uff0c\\u7269\\u6743\\u81ea\\u5360\\u6709\\u53d1\\u751f\\u6548\\u529b\\u3002\\n\\n**\\u7b2c\\u4e8c\\u767e\\u4e09\\u5341\\u4e09\\u6761** \\u5584\\u610f\\u53d6\\u5f97\\u3002\\n\\u65e0\\u5904\\u5206\\u6743\\u4eba\\u5c06\\u4e0d\\u52a8\\u4ea7\\u6216\\u8005\\u52a8\\u4ea7\\u8f6c\\u8ba9\\u7ed9\\u53d7\\u8ba9\\u4eba\\uff0c\\u53d7\\u8ba9\\u4eba\\u53d6\\u5f97\\u8be5\\u4e0d\\u52a8\\u4ea7\\u6216\\u8005\\u52a8\\u4ea7\\u65f6\\u662f\\u5584\\u610f\\uff0c\\u4e14\\u8be5\\u4e0d\\u52a8\\u4ea7\\u6216\\u8005\\u52a8\\u4ea7\\u5df2\\u7ecf\\u767b\\u8bb0\\u6216\\u8005\\u4ea4\\u4ed8\\u7684\\uff0c\\u53d7\\u8ba9\\u4eba\\u53d6\\u5f97\\u8be5\\u4e0d\\u52a8\\u4ea7\\u6216\\u8005\\u52a8\\u4ea7\\u7684\\u6240\\u6709\\u6743\\u3002\\n\\u53d7\\u8ba9\\u4eba\\u4f9d\\u7167\\u524d\\u6b3e\\u89c4\\u5b9a\\u53d6\\u5f97\\u4e0d\\u52a8\\u4ea7\\u6216\\u8005\\u52a8\\u4ea7\\u7684\\u6240\\u6709\\u6743\\u7684\\uff0c\\u539f\\u6743\\u5229\\u4eba\\u6709\\u6743\\u5411\\u65e0\\u5904\\u5206\\u6743\\u4eba\\u8bf7\\u6c42\\u635f\\u5bb3\\u8d54\\u507f\\u3002\\n\\u5f53\\u4e8b\\u4eba\\u5584\\u610f\\u53d6\\u5f97\\u5176\\u4ed6\\u7269\\u6743\\u7684\\uff0c\\u53c2\\u7167\\u9002\\u7528\\u524d\\u4e24\\u6b3e\\u89c4\\u5b9a\\u3002\\n\\n**\\u7b2c\\u4e8c\\u767e\\u4e09\\u5341\\u56db\\u6761** \\u62fe\\u5f97\\u9057\\u5931\\u7269\\uff0c\\u5e94\\u5f53\\u8fd4\\u8fd8\\u6743\\u5229\\u4eba\\u3002\\u62fe\\u5f97\\u4eba\\u5e94\\u5f53\\u53ca\\u65f6\\u901a\\u77e5\\u6743\\u5229\\u4eba\\u9886\\u53d6\\uff0c\\u6216\\u8005\\u9001\\u4ea4\\u516c\\u5b89\\u7b49\\u6709\\u5173\\u90e8\\u95e8\\u3002\\n\\n**\\u7b2c\\u4e8c\\u767e\\u4e09\\u5341\\u4e94\\u6761** \\u9057\\u5931\\u7269\\u81ea\\u53d1\\u5e03\\u62db\\u9886\\u516c\\u544a\\u4e4b\\u65e5\\u8d77\\u4e00\\u5e74\\u5185\\u65e0\\u4eba\\u8ba4\\u9886\\u7684\\uff0c\\u5f52\\u56fd\\u5bb6\\u6240\\u6709\\u3002\\n\\n**\\u7b2c\\u4e8c\\u767e\\u4e09\\u5341\\u516d\\u6761** \\u6743\\u5229\\u4eba\\u60ac\\u8d4f\\u5bfb\\u627e\\u9057\\u5931\\u7269\\u7684\\uff0c\\u9886\\u53d6\\u9057\\u5931\\u7269\\u65f6\\u5e94\\u5f53\\u6309\\u7167\\u627f\\u8bfa\\u5411\\u62fe\\u5f97\\u4eba\\u652f\\u4ed8\\u62a5\\u916c\\u3002\\n\\u62fe\\u5f97\\u4eba\\u4fb5\\u5360\\u9057\\u5931\\u7269\\u7684\\uff0c\\u65e0\\u6743\\u8bf7\\u6c42\\u4fdd\\u7ba1\\u8d39\\u7b49\\u8d39\\u7528\\uff0c\\u4e5f\\u65e0\\u6743\\u8bf7\\u6c42\\u6743\\u5229\\u4eba\\u652f\\u4ed8\\u62a5\\u916c\\u3002\\n\\n**\\u7b2c\\u4e8c\\u767e\\u4e09\\u5341\\u4e03\\u6761** \\u53d1\\u73b0\\u57cb\\u85cf\\u7269\\u3001\\u9690\\u85cf\\u7269\\u7684\\uff0c\\u53c2\\u7167\\u9002\\u7528\\u62fe\\u5f97\\u9057\\u5931\\u7269\\u7684\\u6709\\u5173\\u89c4\\u5b9a\\u3002\\n\\u6cd5\\u5f8b\\u53e6\\u6709\\u89c4\\u5b9a\\u7684\\uff0c\\u4f9d\\u7167\\u5176\\u89c4\\u5b9a\\u3002\\n\\n**\\u7b2c\\u4e8c\\u767e\\u4e09\\u5341\\u516b\\u6761** \\u62fe\\u5f97\\u6f02\\u6d41\\u7269\\u3001\\u5931\\u6563\\u7684\\u9972\\u517b\\u52a8\\u7269\\u6216\\u8005\\u53d7\\u5230\\u635f\\u5bb3\\u7684\\u8d22\\u4ea7\\uff0c\\u53c2\\u7167\\u9002\\u7528\\u62fe\\u5f97\\u9057\\u5931\\u7269\\u7684\\u6709\\u5173\\u89c4\\u5b9a\\u3002\\n\\n**\\u7b2c\\u4e8c\\u767e\\u4e09\\u5341\\u4e5d\\u6761** \\u5f81\\u6536\\u662f\\u6307\\u56fd\\u5bb6\\u4e3a\\u4e86\\u516c\\u5171\\u5229\\u76ca\\u7684\\u9700\\u8981\\uff0c\\u4f9d\\u7167\\u6cd5\\u5f8b\\u89c4\\u5b9a\\u7684\\u6743\\u9650\\u548c\\u7a0b\\u5e8f\\u5bf9\\u96c6\\u4f53\\u6240\\u6709\\u7684\\u571f\\u5730\\u548c\\u623f\\u5c4b\\u3001\\u5355\\u4f4d\\u3001\\u4e2a\\u4eba\\u7684\\u623f\\u5c4b\\u4ee5\\u53ca\\u5176\\u4ed6\\u4e0d\\u52a8\\u4ea7\\u5b9e\\u884c\\u5f81\\u6536\\u6216\\u8005\\u5f81\\u7528\\uff0c\\u5e76\\u7ed9\\u4e88\\u8865\\u507f\\u3002\\n\\u5f81\\u6536\\u7ec4\\u7ec7\\u3001\\u4e2a\\u4eba\\u7684\\u623f\\u5c4b\\u53ca\\u5176\\u4ed6\\u4e0d\\u52a8\\u4ea7\\uff0c\\u5e94\\u5f53\\u4f9d\\u6cd5\\u7ed9\\u4e88\\u516c\\u5e73\\u3001\\u5408\\u7406\\u7684\\u8865\\u507f\\uff0c\\u4fdd\\u969c\\u88ab\\u5f81\\u6536\\u4eba\\u7684\\u5c45\\u4f4f\\u6761\\u4ef6\\u548c\\u8d22\\u4ea7\\u6743\\u5229\\u3002\\n\\n**\\u7b2c\\u4e8c\\u767e\\u56db\\u5341\\u6761** \\u4e3a\\u4e86\\u516c\\u5171\\u5229\\u76ca\\u7684\\u9700\\u8981\\uff0c\\u4f9d\\u7167\\u6cd5\\u5f8b\\u89c4\\u5b9a\\u7684\\u6743\\u9650\\u548c\\u7a0b\\u5e8f\\u53ef\\u4ee5\\u5f81\\u6536\\u7ec4\\u7ec7\\u3001\\u4e2a\\u4eba\\u7684\\u623f\\u5c4b\\u4ee5\\u53ca\\u5176\\u4ed6\\u4e0d\\u52a8\\u4ea7\\uff0c\\u5e76\\u7ed9\\u4e88\\u516c\\u5e73\\u3001\\u5408\\u7406\\u7684\\u8865\\u507f\\u3002\\n\\u56fd\\u5bb6\\u4e3a\\u4e86\\u516c\\u5171\\u5229\\u76ca\\u7684\\u9700\\u8981\\uff0c\\u4f9d\\u7167\\u6cd5\\u5f8b\\u89c4\\u5b9a\\u7684\\u6743\\u9650\\u548c\\u7a0b\\u5e8f\\u53ef\\u4ee5\\u5bf9\\u96c6\\u4f53\\u6240\\u6709\\u7684\\u571f\\u5730\\u548c\\u623f\\u5c4b\\u5b9e\\u884c\\u5f81\\u6536\\u6216\\u8005\\u5f81\\u7528\\uff0c\\u5e76\\u7ed9\\u4e88\\u8865\\u507f\\u3002\\n\\n**\\u7b2c\\u4e8c\\u767e\\u56db\\u5341\\u4e00\\u6761** \\u5f81\\u6536\\u96c6\\u4f53\\u6240\\u6709\\u7684\\u571f\\u5730\\uff0c\\u5e94\\u5f53\\u4f9d\\u6cd5\\u53ca\\u65f6\\u8db3\\u989d\\u652f\\u4ed8\\u571f\\u5730\\u8865\\u507f\\u8d39\\u3001\\u5b89\\u7f6e\\u8865\\u52a9\\u8d39\\u4ee5\\u53ca\\u519c\\u6751\\u6751\\u6c11\\u4f4f\\u5b85\\u3001\\u5176\\u4ed6\\u5730\\u4e0a\\u9644\\u7740\\u7269\\u548c\\u9752\\u82d7\\u7b49\\u7684\\u8865\\u507f\\u8d39\\u7528\\uff0c\\u5e76\\u5b89\\u6392\\u88ab\\u5f81\\u5730\\u519c\\u6c11\\u7684\\u793e\\u4f1a\\u4fdd\\u969c\\u8d39\\u7528\\uff0c\\u4fdd\\u969c\\u88ab\\u5f81\\u5730\\u519c\\u6c11\\u7684\\u751f\\u6d3b\\uff0c\\u7ef4\\u62a4\\u5176\\u5408\\u6cd5\\u6743\\u76ca\\u3002\\n\\u5f81\\u6536\\u7ec4\\u7ec7\\u3001\\u4e2a\\u4eba\\u7684\\u623f\\u5c4b\\u53ca\\u5176\\u4ed6\\u4e0d\\u52a8\\u4ea7\\uff0c\\u5e94\\u5f53\\u4f9d\\u6cd5\\u7ed9\\u4e88\\u516c\\u5e73\\u3001\\u5408\\u7406\\u7684\\u8865\\u507f\\uff0c\\u4fdd\\u969c\\u88ab\\u5f81\\u6536\\u4eba\\u7684\\u5c45\\u4f4f\\u6761\\u4ef6\\u548c\\u8d22\\u4ea7\\u6743\\u5229\\u3002\\n\\n**\\u7b2c\\u4e8c\\u767e\\u56db\\u5341\\u4e8c\\u6761** \\u4e3a\\u4e86\\u516c\\u5171\\u5229\\u76ca\\u7684\\u9700\\u8981\\uff0c\\u4f9d\\u7167\\u6cd5\\u5f8b\\u89c4\\u5b9a\\u7684\\u6743\\u9650\\u548c\\u7a0b\\u5e8f\\u53ef\\u4ee5\\u5f81\\u7528\\u7ec4\\u7ec7\\u3001\\u4e2a\\u4eba\\u7684\\u623f\\u5c4b\\u4ee5\\u53ca\\u5176\\u4ed6\\u4e0d\\u52a8\\u4ea7\\u3002\\n\\u5f81\\u7528\\u5355\\u4f4d\\u3001\\u4e2a\\u4eba\\u7684\\u623f\\u5c4b\\u53ca\\u5176\\u4ed6\\u4e0d\\u52a8\\u4ea7\\uff0c\\u5e94\\u5f53\\u4f9d\\u7167\\u6cd5\\u5f8b\\u89c4\\u5b9a\\u7684\\u6743\\u9650\\u548c\\u7a0b\\u5e8f\\u8fdb\\u884c\\uff0c\\u5e76\\u7ed9\\u4e88\\u8865\\u507f\\u3002\\n\\n**\\u7b2c\\u4e8c\\u767e\\u56db\\u5341\\u4e09\\u6761** \\u6cd5\\u5f8b\\u3001\\u884c\\u653f\\u6cd5\\u89c4\\u5bf9\\u4e0d\\u52a8\\u4ea7\\u6216\\u8005\\u52a8\\u4ea7\\u7684\\u5f52\\u5c5e\\u6709\\u7279\\u522b\\u89c4\\u5b9a\\u7684\\uff0c\\u4f9d\\u7167\\u5176\\u89c4\\u5b9a\\u3002\\n\\n###\",\n",
      "        0.504703938961029\n",
      "    ],\n",
      "    [\n",
      "        \"\\u4e00\\u3001\\u52a8\\u4ea7\\u8d28\\u6743\\n\\n**\\u7b2c\\u56db\\u767e\\u4e09\\u5341\\u56db\\u6761** \\u8d28\\u6743\\u4eba\\u5728\\u503a\\u52a1\\u4eba\\u4e0d\\u5c65\\u884c\\u5230\\u671f\\u503a\\u52a1\\u6216\\u8005\\u53d1\\u751f\\u5f53\\u4e8b\\u4eba\\u7ea6\\u5b9a\\u7684\\u5b9e\\u73b0\\u8d28\\u6743\\u7684\\u60c5\\u5f62\\uff0c\\u6709\\u6743\\u4f9d\\u7167\\u6cd5\\u5f8b\\u89c4\\u5b9a\\u4ee5\\u8d28\\u62bc\\u8d22\\u4ea7\\u4f18\\u5148\\u53d7\\u507f\\u3002\\n\\n**\\u7b2c\\u56db\\u767e\\u4e09\\u5341\\u4e94\\u6761** \\u8d28\\u62bc\\u5408\\u540c\\u4e00\\u822c\\u5305\\u62ec\\u4e0b\\u5217\\u6761\\u6b3e\\uff1a\\n\\uff08\\u4e00\\uff09\\u88ab\\u62c5\\u4fdd\\u503a\\u6743\\u7684\\u79cd\\u7c7b\\u3001\\u6570\\u989d\\uff1b\\n\\uff08\\u4e8c\\uff09\\u503a\\u52a1\\u4eba\\u5c65\\u884c\\u503a\\u52a1\\u7684\\u671f\\u9650\\uff1b\\n\\uff08\\u4e09\\uff09\\u8d28\\u62bc\\u8d22\\u4ea7\\u7684\\u540d\\u79f0\\u3001\\u6570\\u91cf\\u3001\\u8d28\\u91cf\\u3001\\u72b6\\u51b5\\uff1b\\n\\uff08\\u56db\\uff09\\u62c5\\u4fdd\\u7684\\u8303\\u56f4\\u3002\\n\\n**\\u7b2c\\u56db\\u767e\\u4e09\\u5341\\u516d\\u6761** \\u8bbe\\u7acb\\u8d28\\u6743\\uff0c\\u5f53\\u4e8b\\u4eba\\u5e94\\u5f53\\u4f9d\\u7167\\u6cd5\\u5f8b\\u89c4\\u5b9a\\u529e\\u7406\\u767b\\u8bb0\\u3002\\n\\u672a\\u7ecf\\u767b\\u8bb0\\uff0c\\u4e0d\\u53d1\\u751f\\u7269\\u6743\\u6548\\u529b\\u3002\\n\\n**\\u7b2c\\u56db\\u767e\\u4e09\\u5341\\u4e03\\u6761** \\u8d28\\u6743\\u4eba\\u5728\\u503a\\u52a1\\u4eba\\u4e0d\\u5c65\\u884c\\u5230\\u671f\\u503a\\u52a1\\u6216\\u8005\\u53d1\\u751f\\u5f53\\u4e8b\\u4eba\\u7ea6\\u5b9a\\u7684\\u5b9e\\u73b0\\u8d28\\u6743\\u7684\\u60c5\\u5f62\\uff0c\\u6709\\u6743\\u4f9d\\u7167\\u6cd5\\u5f8b\\u89c4\\u5b9a\\u4ee5\\u8d28\\u62bc\\u8d22\\u4ea7\\u4f18\\u5148\\u53d7\\u507f\\u3002\\n\\n**\\u7b2c\\u56db\\u767e\\u4e09\\u5341\\u516b\\u6761** \\u8d28\\u6743\\u4eba\\u6709\\u6743\\u5bf9\\u8d28\\u62bc\\u8d22\\u4ea7\\u7684\\u5b73\\u606f\\u4f18\\u5148\\u53d7\\u507f\\u3002\\n\\u5f53\\u4e8b\\u4eba\\u53e6\\u6709\\u7ea6\\u5b9a\\u7684\\uff0c\\u4f9d\\u7167\\u5176\\u7ea6\\u5b9a\\u3002\\n\\n**\\u7b2c\\u56db\\u767e\\u4e09\\u5341\\u4e5d\\u6761** \\u8d28\\u6743\\u6240\\u62c5\\u4fdd\\u7684\\u503a\\u6743\\u7684\\u8303\\u56f4\\uff0c\\u5305\\u62ec\\u4e3b\\u503a\\u6743\\u53ca\\u5176\\u5229\\u606f\\u3001\\u8fdd\\u7ea6\\u91d1\\u3001\\u635f\\u5bb3\\u8d54\\u507f\\u91d1\\u548c\\u5b9e\\u73b0\\u8d28\\u6743\\u7684\\u8d39\\u7528\\u3002\\n\\u5f53\\u4e8b\\u4eba\\u53e6\\u6709\\u7ea6\\u5b9a\\u7684\\uff0c\\u4f9d\\u7167\\u5176\\u7ea6\\u5b9a\\u3002\\n\\n**\\u7b2c\\u56db\\u767e\\u56db\\u5341\\u6761** \\u8d28\\u6743\\u671f\\u95f4\\uff0c\\u8d28\\u6743\\u4eba\\u672a\\u7ecf\\u51fa\\u8d28\\u4eba\\u540c\\u610f\\uff0c\\u4e0d\\u5f97\\u8f6c\\u8ba9\\u8d28\\u62bc\\u8d22\\u4ea7\\uff0c\\u4f46\\u662f\\u53d7\\u8ba9\\u4eba\\u4ee3\\u4e3a\\u6e05\\u507f\\u503a\\u52a1\\u6216\\u8005\\u5411\\u8d28\\u6743\\u4eba\\u63d0\\u4f9b\\u62c5\\u4fdd\\u7684\\u9664\\u5916\\u3002\\n\\u8d28\\u6743\\u4eba\\u8f6c\\u8ba9\\u8d28\\u62bc\\u8d22\\u4ea7\\u7684\\uff0c\\u8f6c\\u8ba9\\u6240\\u5f97\\u7684\\u4ef7\\u6b3e\\uff0c\\u5e94\\u5f53\\u5411\\u8d28\\u6743\\u4eba\\u63d0\\u524d\\u6e05\\u507f\\u503a\\u52a1\\u6216\\u8005\\u63d0\\u5b58\\u3002\\n\\n**\\u7b2c\\u56db\\u767e\\u56db\\u5341\\u4e00\\u6761** \\u8d28\\u6743\\u4eba\\u8f6c\\u8ba9\\u8d28\\u62bc\\u8d22\\u4ea7\\u7684\\uff0c\\u8f6c\\u8ba9\\u6240\\u5f97\\u7684\\u4ef7\\u6b3e\\uff0c\\u5e94\\u5f53\\u5411\\u8d28\\u6743\\u4eba\\u63d0\\u524d\\u6e05\\u507f\\u503a\\u52a1\\u6216\\u8005\\u63d0\\u5b58\\u3002\\n\\u8f6c\\u8ba9\\u7684\\u4ef7\\u6b3e\\uff0c\\u5e94\\u5f53\\u4f18\\u5148\\u7528\\u4e8e\\u6e05\\u507f\\u8d28\\u6743\\u4eba\\u6240\\u62c5\\u4fdd\\u7684\\u503a\\u52a1\\u3002\\n\\n**\\u7b2c\\u56db\\u767e\\u56db\\u5341\\u4e8c\\u6761** \\u8d28\\u62bc\\u8d22\\u4ea7\\u88ab\\u5f81\\u6536\\u3001\\u5f81\\u7528\\u3001\\u6bc1\\u635f\\u6216\\u8005\\u706d\\u5931\\u7684\\uff0c\\u8d28\\u6743\\u4eba\\u6709\\u6743\\u5c31\\u83b7\\u5f97\\u7684\\u8865\\u507f\\u91d1\\u3001\\u8d54\\u507f\\u91d1\\u6216\\u8005\\u4fdd\\u9669\\u91d1\\u7b49\\u4f18\\u5148\\u53d7\\u507f\\u3002\\n\\n**\\u7b2c\\u56db\\u767e\\u56db\\u5341\\u4e09\\u6761** \\u8d28\\u6743\\u4eba\\u5b9e\\u73b0\\u8d28\\u6743\\uff0c\\u53ef\\u4ee5\\u4e0e\\u51fa\\u8d28\\u4eba\\u534f\\u8bae\\u4ee5\\u8d28\\u62bc\\u8d22\\u4ea7\\u6298\\u4ef7\\u6216\\u8005\\u4ee5\\u62cd\\u5356\\u3001\\u53d8\\u5356\\u8be5\\u8d28\\u62bc\\u8d22\\u4ea7\\u6240\\u5f97\\u7684\\u4ef7\\u6b3e\\u4f18\\u5148\\u53d7\\u507f\\u3002\\n\\u534f\\u8bae\\u635f\\u5bb3\\u5176\\u4ed6\\u503a\\u6743\\u4eba\\u5229\\u76ca\\u7684\\uff0c\\u5176\\u4ed6\\u503a\\u6743\\u4eba\\u53ef\\u4ee5\\u8bf7\\u6c42\\u4eba\\u6c11\\u6cd5\\u9662\\u64a4\\u9500\\u8be5\\u534f\\u8bae\\u3002\\n\\u8d28\\u6743\\u4eba\\u4e0e\\u51fa\\u8d28\\u4eba\\u672a\\u5c31\\u8d28\\u6743\\u7684\\u5b9e\\u73b0\\u65b9\\u5f0f\\u8fbe\\u6210\\u534f\\u8bae\\u7684\\uff0c\\u8d28\\u6743\\u4eba\\u53ef\\u4ee5\\u8bf7\\u6c42\\u4eba\\u6c11\\u6cd5\\u9662\\u62cd\\u5356\\u3001\\u53d8\\u5356\\u8d28\\u62bc\\u8d22\\u4ea7\\u3002\\n\\n**\\u7b2c\\u56db\\u767e\\u56db\\u5341\\u56db\\u6761** \\u8d28\\u6743\\u6d88\\u706d\\u7684\\uff0c\\u767b\\u8bb0\\u673a\\u6784\\u5e94\\u5f53\\u4f9d\\u6cd5\\u529e\\u7406\\u6ce8\\u9500\\u767b\\u8bb0\\u3002\\n\\u8d28\\u6743\\u4eba\\u5e94\\u5f53\\u5c06\\u4e0d\\u52a8\\u4ea7\\u767b\\u8bb0\\u7c3f\\u8bb0\\u8f7d\\u7684\\u8d28\\u6743\\u6ce8\\u9500\\u3002\\n\\n**\\u7b2c\\u56db\\u767e\\u56db\\u5341\\u4e94\\u6761** \\u8d28\\u6743\\u4eba\\u6709\\u6743\\u5bf9\\u8d28\\u62bc\\u8d22\\u4ea7\\u7684\\u5b73\\u606f\\u4f18\\u5148\\u53d7\\u507f\\u3002\\n\\u5f53\\u4e8b\\u4eba\\u53e6\\u6709\\u7ea6\\u5b9a\\u7684\\uff0c\\u4f9d\\u7167\\u5176\\u7ea6\\u5b9a\\u3002\\n\\n**\\u7b2c\\u56db\\u767e\\u56db\\u5341\\u516d\\u6761** \\u8d28\\u6743\\u6240\\u62c5\\u4fdd\\u7684\\u503a\\u6743\\u7684\\u8303\\u56f4\\uff0c\\u5305\\u62ec\\u4e3b\\u503a\\u6743\\u53ca\\u5176\\u5229\\u606f\\u3001\\u8fdd\\u7ea6\\u91d1\\u3001\\u635f\\u5bb3\\u8d54\\u507f\\u91d1\\u548c\\u5b9e\\u73b0\\u8d28\\u6743\\u7684\\u8d39\\u7528\\u3002\\n\\u5f53\\u4e8b\\u4eba\\u53e6\\u6709\\u7ea6\\u5b9a\\u7684\\uff0c\\u4f9d\\u7167\\u5176\\u7ea6\\u5b9a\\u3002\\n\\n**\\u7b2c\\u56db\\u767e\\u56db\\u5341\\u4e03\\u6761** \\u8d28\\u6743\\u4eba\\u5b9e\\u73b0\\u8d28\\u6743\\uff0c\\u53ef\\u4ee5\\u4e0e\\u51fa\\u8d28\\u4eba\\u534f\\u8bae\\u4ee5\\u8d28\\u62bc\\u8d22\\u4ea7\\u6298\\u4ef7\\u6216\\u8005\\u4ee5\\u62cd\\u5356\\u3001\\u53d8\\u5356\\u8be5\\u8d28\\u62bc\\u8d22\\u4ea7\\u6240\\u5f97\\u7684\\u4ef7\\u6b3e\\u4f18\\u5148\\u53d7\\u507f\\u3002\\n\\u534f\\u8bae\\u635f\\u5bb3\\u5176\\u4ed6\\u503a\\u6743\\u4eba\\u5229\\u76ca\\u7684\\uff0c\\u5176\\u4ed6\\u503a\\u6743\\u4eba\\u53ef\\u4ee5\\u8bf7\\u6c42\\u4eba\\u6c11\\u6cd5\\u9662\\u64a4\\u9500\\u8be5\\u534f\\u8bae\\u3002\\n\\u8d28\\u6743\\u4eba\\u4e0e\\u51fa\\u8d28\\u4eba\\u672a\\u5c31\\u8d28\\u6743\\u7684\\u5b9e\\u73b0\\u65b9\\u5f0f\\u8fbe\\u6210\\u534f\\u8bae\\u7684\\uff0c\\u8d28\\u6743\\u4eba\\u53ef\\u4ee5\\u8bf7\\u6c42\\u4eba\\u6c11\\u6cd5\\u9662\\u62cd\\u5356\\u3001\\u53d8\\u5356\\u8d28\\u62bc\\u8d22\\u4ea7\\u3002\\n\\n**\\u7b2c\\u56db\\u767e\\u56db\\u5341\\u516b\\u6761** \\u8d28\\u6743\\u6d88\\u706d\\u7684\\uff0c\\u767b\\u8bb0\\u673a\\u6784\\u5e94\\u5f53\\u4f9d\\u6cd5\\u529e\\u7406\\u6ce8\\u9500\\u767b\\u8bb0\\u3002\\n\\u8d28\\u6743\\u4eba\\u5e94\\u5f53\\u5c06\\u4e0d\\u52a8\\u4ea7\\u767b\\u8bb0\\u7c3f\\u8bb0\\u8f7d\\u7684\\u8d28\\u6743\\u6ce8\\u9500\\u3002\\n\\n#####\",\n",
      "        0.3950510025024414\n",
      "    ],\n",
      "    [\n",
      "        \"\\u7b2c\\u4e00\\u8282 \\u4e00\\u822c\\u89c4\\u5b9a\\n\\n**\\u7b2c\\u4e09\\u767e\\u4e94\\u5341\\u4e09\\u6761** \\u7528\\u76ca\\u7269\\u6743\\u4eba\\u5bf9\\u4ed6\\u4eba\\u6240\\u6709\\u7684\\u4e0d\\u52a8\\u4ea7\\u6216\\u8005\\u52a8\\u4ea7\\uff0c\\u4f9d\\u6cd5\\u4eab\\u6709\\u5360\\u6709\\u3001\\u4f7f\\u7528\\u548c\\u6536\\u76ca\\u7684\\u6743\\u5229\\u3002\\n\\n**\\u7b2c\\u4e09\\u767e\\u4e94\\u5341\\u56db\\u6761** \\u8bbe\\u7acb\\u7528\\u76ca\\u7269\\u6743\\uff0c\\u5f53\\u4e8b\\u4eba\\u5e94\\u5f53\\u4f9d\\u7167\\u6cd5\\u5f8b\\u89c4\\u5b9a\\u529e\\u7406\\u767b\\u8bb0\\u3002\\n\\u672a\\u7ecf\\u767b\\u8bb0\\uff0c\\u4e0d\\u53d1\\u751f\\u7269\\u6743\\u6548\\u529b\\u3002\\n\\n**\\u7b2c\\u4e09\\u767e\\u4e94\\u5341\\u4e94\\u6761** \\u7528\\u76ca\\u7269\\u6743\\u4eba\\u884c\\u4f7f\\u6743\\u5229\\uff0c\\u4e0d\\u5f97\\u635f\\u5bb3\\u6240\\u6709\\u6743\\u4eba\\u7684\\u5408\\u6cd5\\u6743\\u76ca\\u3002\\n\\u7528\\u76ca\\u7269\\u6743\\u4eba\\u4e0d\\u5f97\\u8f6c\\u8ba9\\u3001\\u51fa\\u79df\\u3001\\u62c5\\u4fdd\\u5176\\u7528\\u76ca\\u7269\\u6743\\u3002\\u6cd5\\u5f8b\\u53e6\\u6709\\u89c4\\u5b9a\\u6216\\u8005\\u5f53\\u4e8b\\u4eba\\u53e6\\u6709\\u7ea6\\u5b9a\\u7684\\u9664\\u5916\\u3002\\n\\n**\\u7b2c\\u4e09\\u767e\\u4e94\\u5341\\u516d\\u6761** \\u7528\\u76ca\\u7269\\u6743\\u6d88\\u706d\\u7684\\uff0c\\u767b\\u8bb0\\u673a\\u6784\\u5e94\\u5f53\\u4f9d\\u6cd5\\u529e\\u7406\\u6ce8\\u9500\\u767b\\u8bb0\\u3002\\n\\n**\\u7b2c\\u4e09\\u767e\\u4e94\\u5341\\u4e03\\u6761** \\u7528\\u76ca\\u7269\\u6743\\u53ef\\u4ee5\\u7531\\u5f53\\u4e8b\\u4eba\\u7ea6\\u5b9a\\u5176\\u5185\\u5bb9\\u3002\\n\\u6cd5\\u5f8b\\u3001\\u884c\\u653f\\u6cd5\\u89c4\\u5bf9\\u7528\\u76ca\\u7269\\u6743\\u6709\\u7279\\u522b\\u89c4\\u5b9a\\u7684\\uff0c\\u4f9d\\u7167\\u5176\\u89c4\\u5b9a\\u3002\\n\\n####\",\n",
      "        0.3866760730743408\n",
      "    ]\n",
      "]\n"
     ]
    }
   ],
   "source": [
    "import json\n",
    "\n",
    "retrieved_lines_with_distances = [\n",
    "    (res[\"entity\"][\"text\"], res[\"distance\"]) for res in search_res[0]\n",
    "]\n",
    "print(json.dumps(retrieved_lines_with_distances, indent=4))"
   ]
  },
  {
   "cell_type": "markdown",
   "id": "c74b8d05",
   "metadata": {},
   "source": [
    "### 使用 LLM 获取 RAG 响应"
   ]
  },
  {
   "cell_type": "markdown",
   "id": "d05b7881",
   "metadata": {},
   "source": [
    "将检索到的文档转换为字符串格式。"
   ]
  },
  {
   "cell_type": "code",
   "execution_count": null,
   "id": "f686ee86",
   "metadata": {},
   "outputs": [],
   "source": [
    "context = \"\\n\".join(\n",
    "    [line_with_distance[0] for line_with_distance in retrieved_lines_with_distances]\n",
    ")"
   ]
  },
  {
   "cell_type": "code",
   "execution_count": null,
   "id": "4b223fed",
   "metadata": {},
   "outputs": [
    {
     "data": {
      "text/plain": [
       "'第一章 一般规定\\n\\n**第二百零四条** 为了明确物的归属，充分发挥物的效用，保护权利人的合法权益，维护社会经济秩序，制定本编。\\n\\n**第二百零五条** 本编调整因物的归属和利用产生的民事关系。\\n\\n**第二百零六条** 国家坚持和完善社会主义公有制为主体、多种所有制经济共同发展的基本经济制度。\\n国家巩固和发展公有制经济，鼓励、支持和引导非公有制经济的发展。\\n国家实行社会主义市场经济，保障一切市场主体的平等法律地位和发展权利。\\n\\n**第二百零七条** 国家、集体、私人的物权和其他权利人的物权受法律平等保护，任何组织或者个人不得侵犯。\\n\\n**第二百零八条** 不动产权利的设立、变更、转让和消灭，应当依照法律规定登记。动产物权的设立和转让，应当依照法律规定交付。\\n\\n**第二百零九条** 不动产物权的设立、变更、转让和消灭，经依法登记，发生效力；未经登记，不发生效力，但是法律另有规定的除外。\\n依法属于国家所有的自然资源，所有权可以不登记。\\n\\n**第二百一十条** 不动产登记，由不动产所在地的登记机构办理。\\n国家对不动产实行统一登记制度。统一登记的范围、登记机构和登记办法，由法律、行政法规规定。\\n\\n**第二百一十一条** 当事人申请登记，应当根据不同登记事项提供材料。\\n申请登记材料以及登记事项相关信息，可以公开查询。\\n\\n**第二百一十二条** 登记机构应当履行下列职责：\\n（一）审查申请人提供的材料；\\n（二）询问申请人；\\n（三）如实、及时登记；\\n（四）法律、行政法规规定的其他职责。\\n申请登记的不动产存在尚未解决的权属争议的，登记机构应当不予登记，并书面告知申请人。\\n\\n**第二百一十三条** 登记机构不得有下列行为：\\n（一）要求对不动产进行评估；\\n（二）以不动产登记为条件收取其他费用；\\n（三）超出登记职责范围的其他行为。\\n\\n**第二百一十四条** 不动产物权的设立、变更、转让和消灭，依照法律规定应当登记的，自记载于不动产登记簿时发生效力。\\n\\n**第二百一十五条** 不动产登记簿由登记机构管理。\\n不动产登记簿应当采用纸质形式或者电子形式。\\n不动产登记簿采用电子形式的，应当备份。\\n\\n**第二百一十六条** 不动产登记簿是物权归属和内容的根据。\\n不动产登记簿记载的事项与不动产权属证书记载的事项不一致的，除有证据证明不动产登记簿确有错误外，以不动产登记簿为准。\\n\\n**第二百一十七条** 不动产权属证书是权利人享有该不动产物权的证明。不动产权属证书记载的事项，应当与不动产登记簿一致；不一致的，除有证据证明不动产登记簿确有错误外，以不动产登记簿为准。\\n\\n**第二百一十八条** 权利人、利害关系人可以申请查询、复制不动产登记资料，登记机构应当提供。\\n\\n**第二百一十九条** 利害关系人可以申请查询不动产登记资料。申请查询的，登记机构应当提供。\\n\\n**第二百二十条** 权利人、利害关系人认为不动产登记簿记载的事项错误的，可以申请更正登记。不动产登记簿记载的权利人书面同意或者有证据证明登记确有错误的，登记机构应当予以更正。\\n不动产登记簿记载的权利人不同意更正的，利害关系人可以申请异议登记。登记机构予以异议登记的，申请人在异议登记之日起十五日内不提起诉讼的，异议登记失效。异议登记不当，造成权利人损害的，权利人可以请求损害赔偿。\\n\\n**第二百二十一条** 当事人签订买卖房屋的协议或者签订其他不动产物权的协议，为保障将来实现物权，可以依照约定向登记机构申请预告登记。预告登记后，未经预告登记的权利人同意，处分该不动产的，不发生物权效力。\\n预告登记后，债权消灭或者自能够进行不动产登记之日起九十日内未申请登记的，预告登记失效。\\n\\n**第二百二十二条** 当事人提供虚假材料申请登记，给他人造成损害的，应当承担赔偿责任。\\n因登记机构登记错误，给他人造成损害的，应当承担赔偿责任。登记机构赔偿后，可以向造成登记错误的人追偿。\\n\\n**第二百二十三条** 动产物权的设立和转让，自交付时发生效力，但是法律另有规定的除外。\\n\\n**第二百二十四条** 船舶、航空器和机动车等的物权的设立、变更、转让和消灭，未经登记，不得对抗善意第三人。\\n\\n**第二百二十五条** 动产物权设立和转让前，权利人已经占有该动产的，物权自民事法律行为生效时发生效力。\\n\\n**第二百二十六条** 动产物权设立和转让，合同生效时，所有权没有转移，标的物也未交付，标的物已经移转占有的，所有权自交付时发生效力。\\n因受让人取得占有的，所有权自交付时发生效力。\\n\\n**第二百二十七条** 动产物权设立和转让，合同生效时，所有权没有转移，标的物也未交付，标的物由第三人占有的，出让人将返还请求权转让给受让人时，物权自交付时发生效力。\\n因受让人取得占有的，所有权自交付时发生效力。\\n\\n**第二百二十八条** 动产物权设立和转让，合同生效时，所有权没有转移，标的物也未交付，标的物由出让人继续占有的，物权自合同生效时发生效力。\\n因受让人取得占有的，所有权自交付时发生效力。\\n\\n**第二百二十九条** 因买卖、设定担保物权等基于法律行为而取得物权的，自法律行为生效时发生效力，但是法律另有规定的除外。\\n\\n**第二百三十条** 因继承取得物权的，自继承开始时发生效力。\\n\\n**第二百三十一条** 因合法建造、拆除房屋等事实行为设立或者消灭物权的，自事实行为完成时发生效力。\\n\\n**第二百三十二条** 处分权人将不动产或者动产转让给受让人，所有权已经转移，受让人尚未占有的，物权自交付时发生效力。\\n受让人占有的，物权自占有发生效力。\\n\\n**第二百三十三条** 善意取得。\\n无处分权人将不动产或者动产转让给受让人，受让人取得该不动产或者动产时是善意，且该不动产或者动产已经登记或者交付的，受让人取得该不动产或者动产的所有权。\\n受让人依照前款规定取得不动产或者动产的所有权的，原权利人有权向无处分权人请求损害赔偿。\\n当事人善意取得其他物权的，参照适用前两款规定。\\n\\n**第二百三十四条** 拾得遗失物，应当返还权利人。拾得人应当及时通知权利人领取，或者送交公安等有关部门。\\n\\n**第二百三十五条** 遗失物自发布招领公告之日起一年内无人认领的，归国家所有。\\n\\n**第二百三十六条** 权利人悬赏寻找遗失物的，领取遗失物时应当按照承诺向拾得人支付报酬。\\n拾得人侵占遗失物的，无权请求保管费等费用，也无权请求权利人支付报酬。\\n\\n**第二百三十七条** 发现埋藏物、隐藏物的，参照适用拾得遗失物的有关规定。\\n法律另有规定的，依照其规定。\\n\\n**第二百三十八条** 拾得漂流物、失散的饲养动物或者受到损害的财产，参照适用拾得遗失物的有关规定。\\n\\n**第二百三十九条** 征收是指国家为了公共利益的需要，依照法律规定的权限和程序对集体所有的土地和房屋、单位、个人的房屋以及其他不动产实行征收或者征用，并给予补偿。\\n征收组织、个人的房屋及其他不动产，应当依法给予公平、合理的补偿，保障被征收人的居住条件和财产权利。\\n\\n**第二百四十条** 为了公共利益的需要，依照法律规定的权限和程序可以征收组织、个人的房屋以及其他不动产，并给予公平、合理的补偿。\\n国家为了公共利益的需要，依照法律规定的权限和程序可以对集体所有的土地和房屋实行征收或者征用，并给予补偿。\\n\\n**第二百四十一条** 征收集体所有的土地，应当依法及时足额支付土地补偿费、安置补助费以及农村村民住宅、其他地上附着物和青苗等的补偿费用，并安排被征地农民的社会保障费用，保障被征地农民的生活，维护其合法权益。\\n征收组织、个人的房屋及其他不动产，应当依法给予公平、合理的补偿，保障被征收人的居住条件和财产权利。\\n\\n**第二百四十二条** 为了公共利益的需要，依照法律规定的权限和程序可以征用组织、个人的房屋以及其他不动产。\\n征用单位、个人的房屋及其他不动产，应当依照法律规定的权限和程序进行，并给予补偿。\\n\\n**第二百四十三条** 法律、行政法规对不动产或者动产的归属有特别规定的，依照其规定。\\n\\n###\\n一、动产质权\\n\\n**第四百三十四条** 质权人在债务人不履行到期债务或者发生当事人约定的实现质权的情形，有权依照法律规定以质押财产优先受偿。\\n\\n**第四百三十五条** 质押合同一般包括下列条款：\\n（一）被担保债权的种类、数额；\\n（二）债务人履行债务的期限；\\n（三）质押财产的名称、数量、质量、状况；\\n（四）担保的范围。\\n\\n**第四百三十六条** 设立质权，当事人应当依照法律规定办理登记。\\n未经登记，不发生物权效力。\\n\\n**第四百三十七条** 质权人在债务人不履行到期债务或者发生当事人约定的实现质权的情形，有权依照法律规定以质押财产优先受偿。\\n\\n**第四百三十八条** 质权人有权对质押财产的孳息优先受偿。\\n当事人另有约定的，依照其约定。\\n\\n**第四百三十九条** 质权所担保的债权的范围，包括主债权及其利息、违约金、损害赔偿金和实现质权的费用。\\n当事人另有约定的，依照其约定。\\n\\n**第四百四十条** 质权期间，质权人未经出质人同意，不得转让质押财产，但是受让人代为清偿债务或者向质权人提供担保的除外。\\n质权人转让质押财产的，转让所得的价款，应当向质权人提前清偿债务或者提存。\\n\\n**第四百四十一条** 质权人转让质押财产的，转让所得的价款，应当向质权人提前清偿债务或者提存。\\n转让的价款，应当优先用于清偿质权人所担保的债务。\\n\\n**第四百四十二条** 质押财产被征收、征用、毁损或者灭失的，质权人有权就获得的补偿金、赔偿金或者保险金等优先受偿。\\n\\n**第四百四十三条** 质权人实现质权，可以与出质人协议以质押财产折价或者以拍卖、变卖该质押财产所得的价款优先受偿。\\n协议损害其他债权人利益的，其他债权人可以请求人民法院撤销该协议。\\n质权人与出质人未就质权的实现方式达成协议的，质权人可以请求人民法院拍卖、变卖质押财产。\\n\\n**第四百四十四条** 质权消灭的，登记机构应当依法办理注销登记。\\n质权人应当将不动产登记簿记载的质权注销。\\n\\n**第四百四十五条** 质权人有权对质押财产的孳息优先受偿。\\n当事人另有约定的，依照其约定。\\n\\n**第四百四十六条** 质权所担保的债权的范围，包括主债权及其利息、违约金、损害赔偿金和实现质权的费用。\\n当事人另有约定的，依照其约定。\\n\\n**第四百四十七条** 质权人实现质权，可以与出质人协议以质押财产折价或者以拍卖、变卖该质押财产所得的价款优先受偿。\\n协议损害其他债权人利益的，其他债权人可以请求人民法院撤销该协议。\\n质权人与出质人未就质权的实现方式达成协议的，质权人可以请求人民法院拍卖、变卖质押财产。\\n\\n**第四百四十八条** 质权消灭的，登记机构应当依法办理注销登记。\\n质权人应当将不动产登记簿记载的质权注销。\\n\\n#####\\n第一节 一般规定\\n\\n**第三百五十三条** 用益物权人对他人所有的不动产或者动产，依法享有占有、使用和收益的权利。\\n\\n**第三百五十四条** 设立用益物权，当事人应当依照法律规定办理登记。\\n未经登记，不发生物权效力。\\n\\n**第三百五十五条** 用益物权人行使权利，不得损害所有权人的合法权益。\\n用益物权人不得转让、出租、担保其用益物权。法律另有规定或者当事人另有约定的除外。\\n\\n**第三百五十六条** 用益物权消灭的，登记机构应当依法办理注销登记。\\n\\n**第三百五十七条** 用益物权可以由当事人约定其内容。\\n法律、行政法规对用益物权有特别规定的，依照其规定。\\n\\n####'"
      ]
     },
     "metadata": {},
     "output_type": "display_data"
    }
   ],
   "source": [
    "context"
   ]
  },
  {
   "cell_type": "code",
   "execution_count": null,
   "id": "06defe19",
   "metadata": {},
   "outputs": [
    {
     "data": {
      "text/plain": [
       "'不动产登记机构的职责？'"
      ]
     },
     "metadata": {},
     "output_type": "display_data"
    }
   ],
   "source": [
    "question"
   ]
  },
  {
   "cell_type": "markdown",
   "id": "5d6226e3",
   "metadata": {},
   "source": [
    "为语言模型定义系统和用户提示。此提示是使用从 Milvus 检索到的文档组装而成的。"
   ]
  },
  {
   "cell_type": "code",
   "execution_count": null,
   "id": "43203e7e",
   "metadata": {},
   "outputs": [],
   "source": [
    "SYSTEM_PROMPT = \"\"\"\n",
    "Human: 你是一个 AI 助手。你能够从提供的上下文段落片段中找到问题的答案。\n",
    "\"\"\"\n",
    "USER_PROMPT = f\"\"\"\n",
    "请使用以下用 <context> 标签括起来的信息片段来回答用 <question> 标签括起来的问题。最后对原始答案进行总结，并用 <summary>和</summary> 标签标注。\n",
    "<context>\n",
    "{context}\n",
    "</context>\n",
    "<question>\n",
    "{question}\n",
    "</question>\n",
    "\"\"\""
   ]
  },
  {
   "cell_type": "code",
   "execution_count": null,
   "id": "897ae257",
   "metadata": {},
   "outputs": [
    {
     "data": {
      "text/plain": [
       "'\\n请使用以下用 <context> 标签括起来的信息片段来回答用 <question> 标签括起来的问题。最后对原始答案进行总结，并用 <summary>和</summary> 标签标注。\\n<context>\\n第一章 一般规定\\n\\n**第二百零四条** 为了明确物的归属，充分发挥物的效用，保护权利人的合法权益，维护社会经济秩序，制定本编。\\n\\n**第二百零五条** 本编调整因物的归属和利用产生的民事关系。\\n\\n**第二百零六条** 国家坚持和完善社会主义公有制为主体、多种所有制经济共同发展的基本经济制度。\\n国家巩固和发展公有制经济，鼓励、支持和引导非公有制经济的发展。\\n国家实行社会主义市场经济，保障一切市场主体的平等法律地位和发展权利。\\n\\n**第二百零七条** 国家、集体、私人的物权和其他权利人的物权受法律平等保护，任何组织或者个人不得侵犯。\\n\\n**第二百零八条** 不动产权利的设立、变更、转让和消灭，应当依照法律规定登记。动产物权的设立和转让，应当依照法律规定交付。\\n\\n**第二百零九条** 不动产物权的设立、变更、转让和消灭，经依法登记，发生效力；未经登记，不发生效力，但是法律另有规定的除外。\\n依法属于国家所有的自然资源，所有权可以不登记。\\n\\n**第二百一十条** 不动产登记，由不动产所在地的登记机构办理。\\n国家对不动产实行统一登记制度。统一登记的范围、登记机构和登记办法，由法律、行政法规规定。\\n\\n**第二百一十一条** 当事人申请登记，应当根据不同登记事项提供材料。\\n申请登记材料以及登记事项相关信息，可以公开查询。\\n\\n**第二百一十二条** 登记机构应当履行下列职责：\\n（一）审查申请人提供的材料；\\n（二）询问申请人；\\n（三）如实、及时登记；\\n（四）法律、行政法规规定的其他职责。\\n申请登记的不动产存在尚未解决的权属争议的，登记机构应当不予登记，并书面告知申请人。\\n\\n**第二百一十三条** 登记机构不得有下列行为：\\n（一）要求对不动产进行评估；\\n（二）以不动产登记为条件收取其他费用；\\n（三）超出登记职责范围的其他行为。\\n\\n**第二百一十四条** 不动产物权的设立、变更、转让和消灭，依照法律规定应当登记的，自记载于不动产登记簿时发生效力。\\n\\n**第二百一十五条** 不动产登记簿由登记机构管理。\\n不动产登记簿应当采用纸质形式或者电子形式。\\n不动产登记簿采用电子形式的，应当备份。\\n\\n**第二百一十六条** 不动产登记簿是物权归属和内容的根据。\\n不动产登记簿记载的事项与不动产权属证书记载的事项不一致的，除有证据证明不动产登记簿确有错误外，以不动产登记簿为准。\\n\\n**第二百一十七条** 不动产权属证书是权利人享有该不动产物权的证明。不动产权属证书记载的事项，应当与不动产登记簿一致；不一致的，除有证据证明不动产登记簿确有错误外，以不动产登记簿为准。\\n\\n**第二百一十八条** 权利人、利害关系人可以申请查询、复制不动产登记资料，登记机构应当提供。\\n\\n**第二百一十九条** 利害关系人可以申请查询不动产登记资料。申请查询的，登记机构应当提供。\\n\\n**第二百二十条** 权利人、利害关系人认为不动产登记簿记载的事项错误的，可以申请更正登记。不动产登记簿记载的权利人书面同意或者有证据证明登记确有错误的，登记机构应当予以更正。\\n不动产登记簿记载的权利人不同意更正的，利害关系人可以申请异议登记。登记机构予以异议登记的，申请人在异议登记之日起十五日内不提起诉讼的，异议登记失效。异议登记不当，造成权利人损害的，权利人可以请求损害赔偿。\\n\\n**第二百二十一条** 当事人签订买卖房屋的协议或者签订其他不动产物权的协议，为保障将来实现物权，可以依照约定向登记机构申请预告登记。预告登记后，未经预告登记的权利人同意，处分该不动产的，不发生物权效力。\\n预告登记后，债权消灭或者自能够进行不动产登记之日起九十日内未申请登记的，预告登记失效。\\n\\n**第二百二十二条** 当事人提供虚假材料申请登记，给他人造成损害的，应当承担赔偿责任。\\n因登记机构登记错误，给他人造成损害的，应当承担赔偿责任。登记机构赔偿后，可以向造成登记错误的人追偿。\\n\\n**第二百二十三条** 动产物权的设立和转让，自交付时发生效力，但是法律另有规定的除外。\\n\\n**第二百二十四条** 船舶、航空器和机动车等的物权的设立、变更、转让和消灭，未经登记，不得对抗善意第三人。\\n\\n**第二百二十五条** 动产物权设立和转让前，权利人已经占有该动产的，物权自民事法律行为生效时发生效力。\\n\\n**第二百二十六条** 动产物权设立和转让，合同生效时，所有权没有转移，标的物也未交付，标的物已经移转占有的，所有权自交付时发生效力。\\n因受让人取得占有的，所有权自交付时发生效力。\\n\\n**第二百二十七条** 动产物权设立和转让，合同生效时，所有权没有转移，标的物也未交付，标的物由第三人占有的，出让人将返还请求权转让给受让人时，物权自交付时发生效力。\\n因受让人取得占有的，所有权自交付时发生效力。\\n\\n**第二百二十八条** 动产物权设立和转让，合同生效时，所有权没有转移，标的物也未交付，标的物由出让人继续占有的，物权自合同生效时发生效力。\\n因受让人取得占有的，所有权自交付时发生效力。\\n\\n**第二百二十九条** 因买卖、设定担保物权等基于法律行为而取得物权的，自法律行为生效时发生效力，但是法律另有规定的除外。\\n\\n**第二百三十条** 因继承取得物权的，自继承开始时发生效力。\\n\\n**第二百三十一条** 因合法建造、拆除房屋等事实行为设立或者消灭物权的，自事实行为完成时发生效力。\\n\\n**第二百三十二条** 处分权人将不动产或者动产转让给受让人，所有权已经转移，受让人尚未占有的，物权自交付时发生效力。\\n受让人占有的，物权自占有发生效力。\\n\\n**第二百三十三条** 善意取得。\\n无处分权人将不动产或者动产转让给受让人，受让人取得该不动产或者动产时是善意，且该不动产或者动产已经登记或者交付的，受让人取得该不动产或者动产的所有权。\\n受让人依照前款规定取得不动产或者动产的所有权的，原权利人有权向无处分权人请求损害赔偿。\\n当事人善意取得其他物权的，参照适用前两款规定。\\n\\n**第二百三十四条** 拾得遗失物，应当返还权利人。拾得人应当及时通知权利人领取，或者送交公安等有关部门。\\n\\n**第二百三十五条** 遗失物自发布招领公告之日起一年内无人认领的，归国家所有。\\n\\n**第二百三十六条** 权利人悬赏寻找遗失物的，领取遗失物时应当按照承诺向拾得人支付报酬。\\n拾得人侵占遗失物的，无权请求保管费等费用，也无权请求权利人支付报酬。\\n\\n**第二百三十七条** 发现埋藏物、隐藏物的，参照适用拾得遗失物的有关规定。\\n法律另有规定的，依照其规定。\\n\\n**第二百三十八条** 拾得漂流物、失散的饲养动物或者受到损害的财产，参照适用拾得遗失物的有关规定。\\n\\n**第二百三十九条** 征收是指国家为了公共利益的需要，依照法律规定的权限和程序对集体所有的土地和房屋、单位、个人的房屋以及其他不动产实行征收或者征用，并给予补偿。\\n征收组织、个人的房屋及其他不动产，应当依法给予公平、合理的补偿，保障被征收人的居住条件和财产权利。\\n\\n**第二百四十条** 为了公共利益的需要，依照法律规定的权限和程序可以征收组织、个人的房屋以及其他不动产，并给予公平、合理的补偿。\\n国家为了公共利益的需要，依照法律规定的权限和程序可以对集体所有的土地和房屋实行征收或者征用，并给予补偿。\\n\\n**第二百四十一条** 征收集体所有的土地，应当依法及时足额支付土地补偿费、安置补助费以及农村村民住宅、其他地上附着物和青苗等的补偿费用，并安排被征地农民的社会保障费用，保障被征地农民的生活，维护其合法权益。\\n征收组织、个人的房屋及其他不动产，应当依法给予公平、合理的补偿，保障被征收人的居住条件和财产权利。\\n\\n**第二百四十二条** 为了公共利益的需要，依照法律规定的权限和程序可以征用组织、个人的房屋以及其他不动产。\\n征用单位、个人的房屋及其他不动产，应当依照法律规定的权限和程序进行，并给予补偿。\\n\\n**第二百四十三条** 法律、行政法规对不动产或者动产的归属有特别规定的，依照其规定。\\n\\n###\\n一、动产质权\\n\\n**第四百三十四条** 质权人在债务人不履行到期债务或者发生当事人约定的实现质权的情形，有权依照法律规定以质押财产优先受偿。\\n\\n**第四百三十五条** 质押合同一般包括下列条款：\\n（一）被担保债权的种类、数额；\\n（二）债务人履行债务的期限；\\n（三）质押财产的名称、数量、质量、状况；\\n（四）担保的范围。\\n\\n**第四百三十六条** 设立质权，当事人应当依照法律规定办理登记。\\n未经登记，不发生物权效力。\\n\\n**第四百三十七条** 质权人在债务人不履行到期债务或者发生当事人约定的实现质权的情形，有权依照法律规定以质押财产优先受偿。\\n\\n**第四百三十八条** 质权人有权对质押财产的孳息优先受偿。\\n当事人另有约定的，依照其约定。\\n\\n**第四百三十九条** 质权所担保的债权的范围，包括主债权及其利息、违约金、损害赔偿金和实现质权的费用。\\n当事人另有约定的，依照其约定。\\n\\n**第四百四十条** 质权期间，质权人未经出质人同意，不得转让质押财产，但是受让人代为清偿债务或者向质权人提供担保的除外。\\n质权人转让质押财产的，转让所得的价款，应当向质权人提前清偿债务或者提存。\\n\\n**第四百四十一条** 质权人转让质押财产的，转让所得的价款，应当向质权人提前清偿债务或者提存。\\n转让的价款，应当优先用于清偿质权人所担保的债务。\\n\\n**第四百四十二条** 质押财产被征收、征用、毁损或者灭失的，质权人有权就获得的补偿金、赔偿金或者保险金等优先受偿。\\n\\n**第四百四十三条** 质权人实现质权，可以与出质人协议以质押财产折价或者以拍卖、变卖该质押财产所得的价款优先受偿。\\n协议损害其他债权人利益的，其他债权人可以请求人民法院撤销该协议。\\n质权人与出质人未就质权的实现方式达成协议的，质权人可以请求人民法院拍卖、变卖质押财产。\\n\\n**第四百四十四条** 质权消灭的，登记机构应当依法办理注销登记。\\n质权人应当将不动产登记簿记载的质权注销。\\n\\n**第四百四十五条** 质权人有权对质押财产的孳息优先受偿。\\n当事人另有约定的，依照其约定。\\n\\n**第四百四十六条** 质权所担保的债权的范围，包括主债权及其利息、违约金、损害赔偿金和实现质权的费用。\\n当事人另有约定的，依照其约定。\\n\\n**第四百四十七条** 质权人实现质权，可以与出质人协议以质押财产折价或者以拍卖、变卖该质押财产所得的价款优先受偿。\\n协议损害其他债权人利益的，其他债权人可以请求人民法院撤销该协议。\\n质权人与出质人未就质权的实现方式达成协议的，质权人可以请求人民法院拍卖、变卖质押财产。\\n\\n**第四百四十八条** 质权消灭的，登记机构应当依法办理注销登记。\\n质权人应当将不动产登记簿记载的质权注销。\\n\\n#####\\n第一节 一般规定\\n\\n**第三百五十三条** 用益物权人对他人所有的不动产或者动产，依法享有占有、使用和收益的权利。\\n\\n**第三百五十四条** 设立用益物权，当事人应当依照法律规定办理登记。\\n未经登记，不发生物权效力。\\n\\n**第三百五十五条** 用益物权人行使权利，不得损害所有权人的合法权益。\\n用益物权人不得转让、出租、担保其用益物权。法律另有规定或者当事人另有约定的除外。\\n\\n**第三百五十六条** 用益物权消灭的，登记机构应当依法办理注销登记。\\n\\n**第三百五十七条** 用益物权可以由当事人约定其内容。\\n法律、行政法规对用益物权有特别规定的，依照其规定。\\n\\n####\\n</context>\\n<question>\\n不动产登记机构的职责？\\n</question>\\n'"
      ]
     },
     "metadata": {},
     "output_type": "display_data"
    }
   ],
   "source": [
    "USER_PROMPT"
   ]
  },
  {
   "cell_type": "markdown",
   "id": "0f995d06",
   "metadata": {},
   "source": [
    "使用 DeepSeek 提供的 `deepseek-chat` 模型根据提示生成响应。"
   ]
  },
  {
   "cell_type": "code",
   "execution_count": null,
   "id": "4ae92408",
   "metadata": {},
   "outputs": [
    {
     "name": "stdout",
     "output_type": "stream",
     "text": [
      "根据提供的上下文，不动产登记机构的职责主要包括以下几个方面：\n",
      "\n",
      "1. **审查申请人提供的材料**（第二百一十二条第一项）。\n",
      "2. **询问申请人**（第二百一十二条第二项）。\n",
      "3. **如实、及时登记**（第二百一十二条第三项）。\n",
      "4. **法律、行政法规规定的其他职责**（第二百一十二条第四项）。\n",
      "5. **在申请登记的不动产存在尚未解决的权属争议时，不予登记并书面告知申请人**（第二百一十二条后半部分）。\n",
      "6. **提供查询和复制不动产登记资料的服务**（第二百一十八条、第二百一十九条）。\n",
      "7. **办理更正登记和异议登记**（第二百二十条）。\n",
      "8. **办理预告登记**（第二百二十一条）。\n",
      "9. **不得要求对不动产进行评估、以登记为条件收取其他费用或超出登记职责范围的其他行为**（第二百一十三条）。\n",
      "\n",
      "<summary>\n",
      "不动产登记机构负责审查申请材料、询问申请人、及时登记、处理权属争议、提供查询服务、办理更正、异议和预告登记，并禁止评估、乱收费等行为。\n",
      "</summary>\n"
     ]
    }
   ],
   "source": [
    "response = deepseek_client.chat.completions.create(\n",
    "    model=\"deepseek-chat\",\n",
    "    messages=[\n",
    "        {\"role\": \"system\", \"content\": SYSTEM_PROMPT},\n",
    "        {\"role\": \"user\", \"content\": USER_PROMPT},\n",
    "    ],\n",
    ")\n",
    "print(response.choices[0].message.content)"
   ]
  },
  {
   "cell_type": "code",
   "execution_count": 15,
   "id": "3a94242a",
   "metadata": {},
   "outputs": [
    {
     "ename": "ImportError",
     "evalue": "The 'milvus_model' package is not installed. For installation, use 'pip install pymilvus[model]'. For more information, please visit https://github.com/milvus-io/milvus-model.",
     "output_type": "error",
     "traceback": [
      "\u001b[31m---------------------------------------------------------------------------\u001b[39m",
      "\u001b[31mModuleNotFoundError\u001b[39m                       Traceback (most recent call last)",
      "\u001b[36mFile \u001b[39m\u001b[32m/opt/miniconda3/envs/deepseek/lib/python3.13/site-packages/pymilvus/model/__init__.py:24\u001b[39m, in \u001b[36mMilvusModelLoader._load_milvus_model\u001b[39m\u001b[34m(self)\u001b[39m\n\u001b[32m     23\u001b[39m \u001b[38;5;28;01mtry\u001b[39;00m:\n\u001b[32m---> \u001b[39m\u001b[32m24\u001b[39m     \u001b[38;5;28;01mimport\u001b[39;00m\u001b[38;5;250m \u001b[39m\u001b[34;01mmilvus_model\u001b[39;00m\n\u001b[32m     26\u001b[39m     \u001b[38;5;28mself\u001b[39m._milvus_model = milvus_model\n",
      "\u001b[36mFile \u001b[39m\u001b[32m/opt/miniconda3/envs/deepseek/lib/python3.13/site-packages/milvus_model/__init__.py:1\u001b[39m\n\u001b[32m----> \u001b[39m\u001b[32m1\u001b[39m \u001b[38;5;28;01mfrom\u001b[39;00m\u001b[38;5;250m \u001b[39m\u001b[34;01m.\u001b[39;00m\u001b[38;5;250m \u001b[39m\u001b[38;5;28;01mimport\u001b[39;00m dense, hybrid, sparse\n\u001b[32m      2\u001b[39m \u001b[38;5;28;01mfrom\u001b[39;00m\u001b[38;5;250m \u001b[39m\u001b[34;01m.\u001b[39;00m\u001b[34;01mdense\u001b[39;00m\u001b[34;01m.\u001b[39;00m\u001b[34;01msentence_transformer\u001b[39;00m\u001b[38;5;250m \u001b[39m\u001b[38;5;28;01mimport\u001b[39;00m SentenceTransformerEmbeddingFunction\n",
      "\u001b[36mFile \u001b[39m\u001b[32m/opt/miniconda3/envs/deepseek/lib/python3.13/site-packages/milvus_model/dense/__init__.py:1\u001b[39m\n\u001b[32m----> \u001b[39m\u001b[32m1\u001b[39m \u001b[38;5;28;01mfrom\u001b[39;00m\u001b[38;5;250m \u001b[39m\u001b[34;01m.\u001b[39;00m\u001b[34;01mjinaai\u001b[39;00m\u001b[38;5;250m \u001b[39m\u001b[38;5;28;01mimport\u001b[39;00m JinaEmbeddingFunction\n\u001b[32m      2\u001b[39m \u001b[38;5;28;01mfrom\u001b[39;00m\u001b[38;5;250m \u001b[39m\u001b[34;01m.\u001b[39;00m\u001b[34;01mopenai\u001b[39;00m\u001b[38;5;250m \u001b[39m\u001b[38;5;28;01mimport\u001b[39;00m OpenAIEmbeddingFunction\n",
      "\u001b[36mFile \u001b[39m\u001b[32m/opt/miniconda3/envs/deepseek/lib/python3.13/site-packages/milvus_model/dense/jinaai.py:5\u001b[39m\n\u001b[32m      4\u001b[39m \u001b[38;5;28;01mimport\u001b[39;00m\u001b[38;5;250m \u001b[39m\u001b[34;01mnumpy\u001b[39;00m\u001b[38;5;250m \u001b[39m\u001b[38;5;28;01mas\u001b[39;00m\u001b[38;5;250m \u001b[39m\u001b[34;01mnp\u001b[39;00m\n\u001b[32m----> \u001b[39m\u001b[32m5\u001b[39m \u001b[38;5;28;01mimport\u001b[39;00m\u001b[38;5;250m \u001b[39m\u001b[34;01mrequests\u001b[39;00m\n\u001b[32m      7\u001b[39m \u001b[38;5;28;01mfrom\u001b[39;00m\u001b[38;5;250m \u001b[39m\u001b[34;01mmilvus_model\u001b[39;00m\u001b[34;01m.\u001b[39;00m\u001b[34;01mbase\u001b[39;00m\u001b[38;5;250m \u001b[39m\u001b[38;5;28;01mimport\u001b[39;00m BaseEmbeddingFunction\n",
      "\u001b[31mModuleNotFoundError\u001b[39m: No module named 'requests'",
      "\nThe above exception was the direct cause of the following exception:\n",
      "\u001b[31mImportError\u001b[39m                               Traceback (most recent call last)",
      "\u001b[36mCell\u001b[39m\u001b[36m \u001b[39m\u001b[32mIn[15]\u001b[39m\u001b[32m, line 3\u001b[39m\n\u001b[32m      1\u001b[39m \u001b[38;5;28;01mfrom\u001b[39;00m\u001b[38;5;250m \u001b[39m\u001b[34;01mpymilvus\u001b[39;00m\u001b[38;5;250m \u001b[39m\u001b[38;5;28;01mimport\u001b[39;00m model \u001b[38;5;28;01mas\u001b[39;00m milvus_model\n\u001b[32m----> \u001b[39m\u001b[32m3\u001b[39m embedding_model = \u001b[43mmilvus_model\u001b[49m\u001b[43m.\u001b[49m\u001b[43mDefaultEmbeddingFunction\u001b[49m()\n\u001b[32m      5\u001b[39m \u001b[38;5;66;03m# from pymilvus import model as milvus_model\u001b[39;00m\n\u001b[32m      6\u001b[39m \n\u001b[32m      7\u001b[39m \u001b[38;5;66;03m# OpenAI国内代理 https://api.apiyi.com/token \u001b[39;00m\n\u001b[32m   (...)\u001b[39m\u001b[32m     12\u001b[39m \u001b[38;5;66;03m#     dimensions=512\u001b[39;00m\n\u001b[32m     13\u001b[39m \u001b[38;5;66;03m# )\u001b[39;00m\n",
      "\u001b[36mFile \u001b[39m\u001b[32m/opt/miniconda3/envs/deepseek/lib/python3.13/site-packages/pymilvus/model/__init__.py:10\u001b[39m, in \u001b[36mMilvusModelLoader.__getattr__\u001b[39m\u001b[34m(self, name)\u001b[39m\n\u001b[32m      8\u001b[39m \u001b[38;5;28;01mdef\u001b[39;00m\u001b[38;5;250m \u001b[39m\u001b[34m__getattr__\u001b[39m(\u001b[38;5;28mself\u001b[39m, name: \u001b[38;5;28mstr\u001b[39m):\n\u001b[32m      9\u001b[39m     \u001b[38;5;28;01mif\u001b[39;00m \u001b[38;5;129;01mnot\u001b[39;00m \u001b[38;5;28mself\u001b[39m._milvus_model_loaded:\n\u001b[32m---> \u001b[39m\u001b[32m10\u001b[39m         \u001b[38;5;28;43mself\u001b[39;49m\u001b[43m.\u001b[49m\u001b[43m_load_milvus_model\u001b[49m\u001b[43m(\u001b[49m\u001b[43m)\u001b[49m\n\u001b[32m     11\u001b[39m     \u001b[38;5;28;01mtry\u001b[39;00m:\n\u001b[32m     12\u001b[39m         \u001b[38;5;28;01mreturn\u001b[39;00m \u001b[38;5;28mgetattr\u001b[39m(\u001b[38;5;28mself\u001b[39m._milvus_model, name)\n",
      "\u001b[36mFile \u001b[39m\u001b[32m/opt/miniconda3/envs/deepseek/lib/python3.13/site-packages/pymilvus/model/__init__.py:33\u001b[39m, in \u001b[36mMilvusModelLoader._load_milvus_model\u001b[39m\u001b[34m(self)\u001b[39m\n\u001b[32m     27\u001b[39m \u001b[38;5;28;01mexcept\u001b[39;00m \u001b[38;5;167;01mImportError\u001b[39;00m \u001b[38;5;28;01mas\u001b[39;00m e:\n\u001b[32m     28\u001b[39m     err_str = (\n\u001b[32m     29\u001b[39m         \u001b[33m\"\u001b[39m\u001b[33mThe \u001b[39m\u001b[33m'\u001b[39m\u001b[33mmilvus_model\u001b[39m\u001b[33m'\u001b[39m\u001b[33m package is not installed. \u001b[39m\u001b[33m\"\u001b[39m\n\u001b[32m     30\u001b[39m         \u001b[33m\"\u001b[39m\u001b[33mFor installation, use \u001b[39m\u001b[33m'\u001b[39m\u001b[33mpip install pymilvus[model]\u001b[39m\u001b[33m'\u001b[39m\u001b[33m. \u001b[39m\u001b[33m\"\u001b[39m\n\u001b[32m     31\u001b[39m         \u001b[33m\"\u001b[39m\u001b[33mFor more information, please visit https://github.com/milvus-io/milvus-model.\u001b[39m\u001b[33m\"\u001b[39m\n\u001b[32m     32\u001b[39m     )\n\u001b[32m---> \u001b[39m\u001b[32m33\u001b[39m     \u001b[38;5;28;01mraise\u001b[39;00m \u001b[38;5;167;01mImportError\u001b[39;00m(err_str) \u001b[38;5;28;01mfrom\u001b[39;00m\u001b[38;5;250m \u001b[39m\u001b[34;01me\u001b[39;00m\n\u001b[32m     34\u001b[39m \u001b[38;5;28mself\u001b[39m._milvus_model_loaded = \u001b[38;5;28;01mTrue\u001b[39;00m\n",
      "\u001b[31mImportError\u001b[39m: The 'milvus_model' package is not installed. For installation, use 'pip install pymilvus[model]'. For more information, please visit https://github.com/milvus-io/milvus-model."
     ]
    }
   ],
   "source": [
    "from pymilvus import model as milvus_model\n",
    "\n",
    "embedding_model = milvus_model.DefaultEmbeddingFunction()\n",
    "\n",
    "# from pymilvus import model as milvus_model\n",
    "\n",
    "# OpenAI国内代理 https://api.apiyi.com/token \n",
    "# embedding_model = milvus_model.dense.OpenAIEmbeddingFunction(\n",
    "#     model_name='text-embedding-3-large', # Specify the model name\n",
    "#     api_key='sk-XXX', # Provide your OpenAI API key\n",
    "#     base_url='https://api.apiyi.com/v1',\n",
    "#     dimensions=512\n",
    "# )"
   ]
  },
  {
   "cell_type": "markdown",
   "id": "93fb1696",
   "metadata": {},
   "source": [
    "生成一个测试嵌入并打印其维度和前几个元素。"
   ]
  },
  {
   "cell_type": "code",
   "execution_count": null,
   "id": "88a27567",
   "metadata": {},
   "outputs": [],
   "source": [
    "test_embedding = embedding_model.encode_queries([\"This is a test\"])[0]\n",
    "embedding_dim = len(test_embedding)\n",
    "print(embedding_dim)\n",
    "print(test_embedding[:10])"
   ]
  },
  {
   "cell_type": "code",
   "execution_count": null,
   "id": "f7683f3a-d9e4-4c8e-9a66-c341911bef6b",
   "metadata": {},
   "outputs": [],
   "source": [
    "test_embedding_0 = embedding_model.encode_queries([\"That is a test\"])[0]\n",
    "print(test_embedding_0[:10])"
   ]
  },
  {
   "cell_type": "markdown",
   "id": "5a778887",
   "metadata": {},
   "source": [
    "## 将数据加载到 Milvus"
   ]
  },
  {
   "cell_type": "markdown",
   "id": "02b23a24",
   "metadata": {},
   "source": [
    "### 创建 Collection"
   ]
  },
  {
   "cell_type": "code",
   "execution_count": null,
   "id": "95e84b8c",
   "metadata": {},
   "outputs": [],
   "source": [
    "from pymilvus import MilvusClient\n",
    "\n",
    "milvus_client = MilvusClient(uri=\"./milvus_demo.db\")\n",
    "\n",
    "collection_name = \"my_rag_collection\""
   ]
  },
  {
   "cell_type": "markdown",
   "id": "68648561",
   "metadata": {},
   "source": [
    "关于 `MilvusClient` 的参数：\n",
    "\n",
    "*   将 `uri` 设置为本地文件，例如 `./milvus.db`，是最方便的方法，因为它会自动利用 Milvus Lite 将所有数据存储在此文件中。\n",
    "*   如果您有大规模数据，可以在 Docker 或 Kubernetes 上设置性能更高的 Milvus 服务器。在此设置中，请使用服务器 URI，例如 `http://localhost:19530`，作为您的 `uri`。\n",
    "*   如果您想使用 Zilliz Cloud（Milvus 的完全托管云服务），请调整 `uri` 和 `token`，它们对应 Zilliz Cloud 中的 Public Endpoint 和 Api key。"
   ]
  },
  {
   "cell_type": "markdown",
   "id": "5ce1bf3e",
   "metadata": {},
   "source": [
    "检查 collection 是否已存在，如果存在则删除它。"
   ]
  },
  {
   "cell_type": "code",
   "execution_count": null,
   "id": "aee85c08",
   "metadata": {},
   "outputs": [],
   "source": [
    "if milvus_client.has_collection(collection_name):\n",
    "    milvus_client.drop_collection(collection_name)"
   ]
  },
  {
   "cell_type": "markdown",
   "id": "73eb379f",
   "metadata": {},
   "source": [
    "创建一个具有指定参数的新 collection。\n",
    "\n",
    "如果我们不指定任何字段信息，Milvus 将自动创建一个默认的 `id` 字段作为主键，以及一个 `vector` 字段来存储向量数据。一个保留的 JSON 字段用于存储非 schema 定义的字段及其值。\n",
    "\n",
    "`metric_type` (距离度量类型):\n",
    "     作用：定义如何计算向量之间的相似程度。\n",
    "     例如：`IP` (内积) - 值越大通常越相似；`L2` (欧氏距离) - 值越小越相似；`COSINE` (余弦相似度) - 通常转换为距离，值越小越相似。\n",
    "     选择依据：根据你的嵌入模型的特性和期望的相似性定义来选择。\n",
    "\n",
    " `consistency_level` (一致性级别):\n",
    "     作用：定义数据写入后，读取操作能多快看到这些新数据。\n",
    "     例如：\n",
    "         `Strong` (强一致性): 总是读到最新数据，可能稍慢。\n",
    "         `Bounded` (有界过期): 可能读到几秒内旧数据，性能较好 (默认)。\n",
    "         `Session` (会话一致性): 自己写入的自己能立刻读到。\n",
    "         `Eventually` (最终一致性): 最终会读到新数据，但没时间保证，性能最好。\n",
    "     选择依据：在数据实时性要求和系统性能之间做权衡。\n",
    "\n",
    "简单来说：\n",
    " `metric_type`：怎么算相似。\n",
    " `consistency_level`：新数据多久能被读到。"
   ]
  },
  {
   "cell_type": "code",
   "execution_count": null,
   "id": "bd0b2df8",
   "metadata": {},
   "outputs": [],
   "source": [
    "milvus_client.create_collection(\n",
    "    collection_name=collection_name,\n",
    "    dimension=embedding_dim,\n",
    "    metric_type=\"IP\",  # 内积距离\n",
    "    consistency_level=\"Strong\",  # 支持的值为 (`\"Strong\"`, `\"Session\"`, `\"Bounded\"`, `\"Eventually\"`)。更多详情请参见 https://milvus.io/docs/consistency.md#Consistency-Level。\n",
    ")"
   ]
  },
  {
   "cell_type": "markdown",
   "id": "9c15bafb",
   "metadata": {},
   "source": [
    "### 插入数据"
   ]
  },
  {
   "cell_type": "markdown",
   "id": "171d3b35",
   "metadata": {},
   "source": [
    "遍历文本行，创建嵌入，然后将数据插入 Milvus。\n",
    "\n",
    "这里有一个新字段 `text`，它是在 collection schema 中未定义的字段。它将自动添加到保留的 JSON 动态字段中，该字段在高级别上可以被视为普通字段。"
   ]
  },
  {
   "cell_type": "code",
   "execution_count": null,
   "id": "ad077094",
   "metadata": {},
   "outputs": [],
   "source": [
    "from tqdm import tqdm\n",
    "\n",
    "data = []\n",
    "\n",
    "doc_embeddings = embedding_model.encode_documents(text_lines)\n",
    "\n",
    "for i, line in enumerate(tqdm(text_lines, desc=\"Creating embeddings\")):\n",
    "    data.append({\"id\": i, \"vector\": doc_embeddings[i], \"text\": line})\n",
    "\n",
    "milvus_client.insert(collection_name=collection_name, data=data)"
   ]
  },
  {
   "cell_type": "markdown",
   "id": "bd971f6b",
   "metadata": {},
   "source": [
    "## 构建 RAG"
   ]
  },
  {
   "cell_type": "markdown",
   "id": "534dc076",
   "metadata": {},
   "source": [
    "### 检索查询数据"
   ]
  },
  {
   "cell_type": "markdown",
   "id": "5a6fd7e7",
   "metadata": {},
   "source": [
    "我们指定一个关于 Milvus 的常见问题。"
   ]
  },
  {
   "cell_type": "code",
   "execution_count": null,
   "id": "6e2f5c6a",
   "metadata": {},
   "outputs": [],
   "source": [
    "question = \"How is data stored in milvus?\""
   ]
  },
  {
   "cell_type": "markdown",
   "id": "52401a38",
   "metadata": {},
   "source": [
    "在 collection 中搜索该问题，并检索语义上最匹配的前3个结果。"
   ]
  },
  {
   "cell_type": "code",
   "execution_count": null,
   "id": "0dd4cbac",
   "metadata": {},
   "outputs": [],
   "source": [
    "search_res = milvus_client.search(\n",
    "    collection_name=collection_name,\n",
    "    data=embedding_model.encode_queries(\n",
    "        [question]\n",
    "    ),  # 将问题转换为嵌入向量\n",
    "    limit=3,  # 返回前3个结果\n",
    "    search_params={\"metric_type\": \"IP\", \"params\": {}},  # 内积距离\n",
    "    output_fields=[\"text\"],  # 返回 text 字段\n",
    ")"
   ]
  },
  {
   "cell_type": "markdown",
   "id": "ffcce135",
   "metadata": {},
   "source": [
    "让我们看一下查询的搜索结果"
   ]
  },
  {
   "cell_type": "code",
   "execution_count": null,
   "id": "6a7f6eb3",
   "metadata": {},
   "outputs": [],
   "source": [
    "import json\n",
    "\n",
    "retrieved_lines_with_distances = [\n",
    "    (res[\"entity\"][\"text\"], res[\"distance\"]) for res in search_res[0]\n",
    "]\n",
    "print(json.dumps(retrieved_lines_with_distances, indent=4))"
   ]
  },
  {
   "cell_type": "markdown",
   "id": "ccd4c186",
   "metadata": {},
   "source": [
    "### 使用 LLM 获取 RAG 响应"
   ]
  },
  {
   "cell_type": "markdown",
   "id": "4cd1ae3a",
   "metadata": {},
   "source": [
    "将检索到的文档转换为字符串格式。"
   ]
  },
  {
   "cell_type": "code",
   "execution_count": null,
   "id": "0676448f",
   "metadata": {},
   "outputs": [],
   "source": [
    "context = \"\\n\".join(\n",
    "    [line_with_distance[0] for line_with_distance in retrieved_lines_with_distances]\n",
    ")"
   ]
  },
  {
   "cell_type": "code",
   "execution_count": null,
   "id": "107df42a-b3f7-48a8-b66b-fc82fe3ec174",
   "metadata": {},
   "outputs": [],
   "source": [
    "context"
   ]
  },
  {
   "cell_type": "code",
   "execution_count": null,
   "id": "19998758-7f98-4cb8-8789-625fcfaad00e",
   "metadata": {},
   "outputs": [],
   "source": [
    "question"
   ]
  },
  {
   "cell_type": "markdown",
   "id": "7ad25756",
   "metadata": {},
   "source": [
    "为语言模型定义系统和用户提示。此提示是使用从 Milvus 检索到的文档组装而成的。"
   ]
  },
  {
   "cell_type": "code",
   "execution_count": null,
   "id": "b655f6f3",
   "metadata": {},
   "outputs": [],
   "source": [
    "SYSTEM_PROMPT = \"\"\"\n",
    "Human: 你是一个 AI 助手。你能够从提供的上下文段落片段中找到问题的答案。\n",
    "\"\"\"\n",
    "USER_PROMPT = f\"\"\"\n",
    "请使用以下用 <context> 标签括起来的信息片段来回答用 <question> 标签括起来的问题。最后追加原始回答的中文翻译，并用 <translated>和</translated> 标签标注。\n",
    "<context>\n",
    "{context}\n",
    "</context>\n",
    "<question>\n",
    "{question}\n",
    "</question>\n",
    "<translated>\n",
    "</translated>\n",
    "\"\"\""
   ]
  },
  {
   "cell_type": "code",
   "execution_count": null,
   "id": "97089c31-f85c-47a9-8498-78520513bc67",
   "metadata": {},
   "outputs": [],
   "source": [
    "USER_PROMPT"
   ]
  },
  {
   "cell_type": "markdown",
   "id": "184b457f",
   "metadata": {},
   "source": [
    "使用 DeepSeek 提供的 `deepseek-chat` 模型根据提示生成响应。"
   ]
  },
  {
   "cell_type": "code",
   "execution_count": null,
   "id": "638a7561",
   "metadata": {},
   "outputs": [],
   "source": [
    "response = deepseek_client.chat.completions.create(\n",
    "    model=\"deepseek-chat\",\n",
    "    messages=[\n",
    "        {\"role\": \"system\", \"content\": SYSTEM_PROMPT},\n",
    "        {\"role\": \"user\", \"content\": USER_PROMPT},\n",
    "    ],\n",
    ")\n",
    "print(response.choices[0].message.content)"
   ]
  },
  {
   "cell_type": "code",
   "execution_count": null,
   "id": "972ecded-f09f-45c9-9445-053d2b1ce6d7",
   "metadata": {},
   "outputs": [],
   "source": []
  }
 ],
 "metadata": {
  "kernelspec": {
   "display_name": "deepseek",
   "language": "python",
   "name": "python3"
  },
  "language_info": {
   "codemirror_mode": {
    "name": "ipython",
    "version": 3
   },
   "file_extension": ".py",
   "mimetype": "text/x-python",
   "name": "python",
   "nbconvert_exporter": "python",
   "pygments_lexer": "ipython3",
   "version": "3.13.5"
  }
 },
 "nbformat": 4,
 "nbformat_minor": 5
}
